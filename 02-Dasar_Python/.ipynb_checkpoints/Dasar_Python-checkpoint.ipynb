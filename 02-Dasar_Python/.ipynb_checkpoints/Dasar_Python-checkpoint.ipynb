{
 "cells": [
  {
   "cell_type": "markdown",
   "metadata": {},
   "source": [
    "<center><a href=\"https://www.nvidia.com/dli\"> <img src=\"Pelatihan-DLI.jpeg\" alt=\"Header\" style=\"width: 1000px;\"/> </a></center>"
   ]
  },
  {
   "cell_type": "markdown",
   "metadata": {},
   "source": [
    "# Pelatihan Dasar Pemrograman Python untuk TNI\n",
    "\n",
    "Notebook ini merupakan bagian dari pelatihan **Dasar Pemrograman Python** untuk peserta TNI.\n",
    "\n",
    "---\n",
    "## 🎯 Tujuan Pembelajaran\n",
    "- Mengenal dasar pemrograman Python dan konsep fundamentalnya.\n",
    "- Memahami cara kerja Jupyter Notebook sebagai alat latihan interaktif.\n",
    "- Menggunakan variabel dan tipe data untuk menyimpan dan mengolah informasi.\n",
    "- Menerapkan logika kondisi dan perulangan.\n",
    "- Mengembangkan pemahaman awal untuk analisis data dan otomasi.\n",
    "\n",
    "---\n",
    "💻 **Gunakan perintah `Shift + Enter` untuk menjalankan setiap cell di bawah ini.**"
   ]
  },
  {
   "cell_type": "markdown",
   "metadata": {},
   "source": [
    "## 1️⃣ Dasar Pemrograman Python\n",
    "\n",
    "Python adalah bahasa pemrograman tingkat tinggi yang dikembangkan oleh Guido van Rossum pada tahun 1991. Python dikenal dengan sintaksnya yang mudah dipahami dan mendukung berbagai paradigma pemrograman, termasuk pemrograman berorientasi objek, fungsional, dan prosedural. Banyak digunakan di bidang **data science** dan **artificial intelligence (AI)**.\n",
    "\n",
    "### Karakteristik Utama Python:\n",
    "- **Interpreted language** → dijalankan baris per baris tanpa perlu dikompilasi.\n",
    "- **High-level** → mudah dibaca, mirip bahasa manusia.\n",
    "- **Dapat digunakan di berbagai platform** (Windows, macOS, Linux, bahkan di Raspberry Pi).\n",
    "- **Open source dan gratis.**\n",
    "- Memiliki ribuan **library siap pakai**, misalnya: `numpy`, `matplotlib`, `pandas`, `tensorflow`, dll.\n"
   ]
  },
  {
   "cell_type": "code",
   "execution_count": null,
   "metadata": {},
   "outputs": [],
   "source": [
    "# Contoh kode Python pertama\n",
    "print(\"Selamat datang di pelatihan Python untuk TNI!\")"
   ]
  },
  {
   "cell_type": "markdown",
   "metadata": {},
   "source": [
    "## 2️⃣ Python Fundamental & Concept\n",
    "\n",
    "### Konsep Dasar Pemrograman:\n",
    "- **Input** → menerima data dari pengguna.\n",
    "- **Proses** → mengolah data dengan operasi logika atau matematika.\n",
    "- **Output** → menampilkan hasil ke layar.\n",
    "\n",
    "<center><a> <img src=\"input-output.png\" alt=\"Header\" style=\"width: 600px;\"/> </a></center>"
   ]
  },
  {
   "cell_type": "code",
   "execution_count": null,
   "metadata": {},
   "outputs": [],
   "source": [
    "prajurit = int(input(\"Masukkan jumlah prajurit: \"))\n",
    "amunisi_per_prajurit = int(input(\"Masukkan jumlah amunisi per prajurit: \"))\n",
    "total_amunisi = prajurit * amunisi_per_prajurit\n",
    "print(\"Total amunisi yang dibutuhkan:\", total_amunisi, \"butir\")"
   ]
  },
  {
   "cell_type": "markdown",
   "metadata": {},
   "source": [
    "## 3️⃣ Jupyter Notebook\n",
    "\n",
    "### Apa itu Jupyter Notebook?\n",
    "Jupyter Notebook adalah alat yang memungkinkan Anda menulis **kode Python**, **penjelasan teks (Markdown)**, **grafik**, dan **visualisasi data** dalam satu tempat.\n",
    "\n",
    "### Kelebihan Jupyter Notebook:\n",
    "- Dapat menampilkan hasil kode langsung di bawah cell.\n",
    "- Cocok untuk latihan, penelitian, atau pelatihan interaktif.\n",
    "- Dapat diekspor menjadi PDF, HTML, atau slide presentasi."
   ]
  },
  {
   "cell_type": "code",
   "execution_count": null,
   "metadata": {},
   "outputs": [],
   "source": [
    "# Contoh cell interaktif di Jupyter Notebook\n",
    "nama = input(\"Masukkan nama prajurit: \")\n",
    "print(f\"Selamat datang, {nama}! Notebook siap digunakan untuk latihan Python.\")"
   ]
  },
  {
   "cell_type": "markdown",
   "metadata": {},
   "source": [
    "## 4️⃣ Python Variabel & Tipe Data\n",
    "\n",
    "### 💡 Apa itu Variabel?\n",
    "Variabel digunakan untuk menyimpan nilai atau data agar bisa digunakan kembali.\n",
    "\n",
    "Contoh:\n",
    "```python\n",
    "nama = \"Andika\"\n",
    "umur = 25\n",
    "pangkat = \"Sersan\"\n",
    "```\n",
    "\n",
    "### 🔢 Jenis Tipe Data Utama:\n",
    "| Tipe Data | Contoh | Keterangan |\n",
    "|------------|---------|------------|\n",
    "| `int` | 100 | bilangan bulat |\n",
    "| `float` | 3.14 | bilangan desimal |\n",
    "| `str` | \"Infanteri\" | teks / string |\n",
    "| `bool` | True / False | logika benar/salah |\n",
    "\n",
    "### 🧮 Operasi Dasar dengan Variabel"
   ]
  },
  {
   "cell_type": "code",
   "execution_count": null,
   "metadata": {},
   "outputs": [],
   "source": [
    "pos = \"Utara\"\n",
    "prajurit = 120\n",
    "amunisi_per = 30\n",
    "total_amunisi = prajurit * amunisi_per\n",
    "\n",
    "print(f\"Pos {pos} memiliki {prajurit} prajurit dengan total {total_amunisi} butir amunisi.\")"
   ]
  },
  {
   "cell_type": "markdown",
   "metadata": {},
   "source": [
    "### 🧾 Latihan: Coba ganti nilai variabel di bawah ini sesuai kondisi nyata di lapangan."
   ]
  },
  {
   "cell_type": "code",
   "execution_count": null,
   "metadata": {},
   "outputs": [],
   "source": [
    "nama_unit = input(\"Nama unit: \")\n",
    "jumlah_personel = ...(...(\"Jumlah personel: \"))\n",
    "kendaraan = ...(...(\"Jumlah kendaraan tempur: \"))\n",
    "print(f\"Unit {...} memiliki {...} personel dan {...} kendaraan.\")"
   ]
  },
  {
   "cell_type": "markdown",
   "metadata": {},
   "source": [
    "## 5️⃣ Python Kondisi dan Perulangan\n",
    "\n",
    "### Percabangan (Condition) — `if`, `elif`, `else`\n",
    "\n",
    "Digunakan untuk **membuat keputusan otomatis** berdasarkan kondisi tertentu.\n",
    "\n",
    "Contoh kasus: Sistem peringatan siaga."
   ]
  },
  {
   "cell_type": "code",
   "execution_count": null,
   "metadata": {},
   "outputs": [],
   "source": [
    "ancaman = int(input(\"Masukkan tingkat ancaman (1-5): \"))\n",
    "\n",
    "if ancaman >= 4:\n",
    "    print(\"SIAGA 1 – Kerahkan semua pasukan!\")\n",
    "elif ancaman == 3:\n",
    "    print(\"SIAGA 2 – Siapkan pasukan cadangan!\")\n",
    "else:\n",
    "    print(\"NORMAL – Situasi terkendali.\")"
   ]
  },
  {
   "cell_type": "markdown",
   "metadata": {},
   "source": [
    "### 🔁 Perulangan (Loop) — `for` dan `while`\n",
    "\n",
    "Digunakan untuk mengulang perintah tertentu, seperti mengecek beberapa pos sekaligus."
   ]
  },
  {
   "cell_type": "code",
   "execution_count": null,
   "metadata": {},
   "outputs": [],
   "source": [
    "jumlah_pos = int(input(\"Berapa jumlah pos yang akan diperiksa? \"))\n",
    "for i in range(jumlah_pos):\n",
    "    print(f\"Sedang memeriksa Pos ke-{i+1}...\")"
   ]
  },
  {
   "cell_type": "markdown",
   "metadata": {},
   "source": [
    "### Studi Kasus: Laporan Logistik Beberapa Pos"
   ]
  },
  {
   "cell_type": "code",
   "execution_count": null,
   "metadata": {},
   "outputs": [],
   "source": [
    "total_logistik = 0\n",
    "jumlah_pos = int(input(\"Masukkan jumlah pos: \"))\n",
    "\n",
    "for i in range(jumlah_pos):\n",
    "    print(f\"\\nData Pos ke-{i+1}\")\n",
    "    nama = input(\"Nama Pos: \")\n",
    "    logistik = int(input(\"Jumlah logistik tersedia: \"))\n",
    "    total_logistik += logistik\n",
    "    print(f\"Pos {nama} melaporkan {logistik} unit logistik.\")\n",
    "\n",
    "print(\"\\nTotal logistik semua pos:\", total_logistik)"
   ]
  },
  {
   "cell_type": "code",
   "execution_count": null,
   "metadata": {},
   "outputs": [],
   "source": []
  }
 ],
 "metadata": {
  "kernelspec": {
   "display_name": "Python (ds-env)",
   "language": "python",
   "name": "ds-env"
  },
  "language_info": {
   "codemirror_mode": {
    "name": "ipython",
    "version": 3
   },
   "file_extension": ".py",
   "mimetype": "text/x-python",
   "name": "python",
   "nbconvert_exporter": "python",
   "pygments_lexer": "ipython3",
   "version": "3.11.11"
  }
 },
 "nbformat": 4,
 "nbformat_minor": 4
}
