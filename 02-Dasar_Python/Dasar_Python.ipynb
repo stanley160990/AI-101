{
 "cells": [
  {
   "cell_type": "markdown",
   "id": "010721a0-7399-412d-b1d5-fde4561b41d6",
   "metadata": {},
   "source": [
    "Pengenalan Python"
   ]
  },
  {
   "cell_type": "code",
   "execution_count": 1,
   "id": "e4e524b8-dd0e-4729-8665-e2886cdcc489",
   "metadata": {},
   "outputs": [
    {
     "name": "stdout",
     "output_type": "stream",
     "text": [
      "Selamat datang di pelatihan Python TNI!\n"
     ]
    }
   ],
   "source": [
    "print(\"Selamat datang di pelatihan Python TNI!\")"
   ]
  },
  {
   "cell_type": "code",
   "execution_count": 2,
   "id": "44030f3c-3868-4459-ba0a-c4dd7040071c",
   "metadata": {},
   "outputs": [
    {
     "name": "stdin",
     "output_type": "stream",
     "text": [
      "Masukkan nama prajurit:  Komang\n"
     ]
    },
    {
     "name": "stdout",
     "output_type": "stream",
     "text": [
      "Siap! Prajurit Komang memulai latihan Python!\n"
     ]
    }
   ],
   "source": [
    "nama = input(\"Masukkan nama prajurit: \")\n",
    "print(\"Siap! Prajurit\", nama, \"memulai latihan Python!\")"
   ]
  },
  {
   "cell_type": "markdown",
   "id": "f875b5c9-1166-4bee-a717-72e2d685bdc9",
   "metadata": {},
   "source": [
    "Variabel, Tipe Data, dan Operasi Dasar"
   ]
  },
  {
   "cell_type": "code",
   "execution_count": null,
   "id": "8c565901-9624-463d-91e1-86f4412242a9",
   "metadata": {},
   "outputs": [],
   "source": [
    "jumlah_prajurit = 120\n",
    "amunisi_per_prajurit = 30\n",
    "total_amunisi = jumlah_prajurit * amunisi_per_prajurit\n",
    "\n",
    "print(\"Total amunisi yang dibutuhkan:\", total_amunisi, \"butir\")"
   ]
  },
  {
   "cell_type": "code",
   "execution_count": null,
   "id": "25825ac2-1c3f-452e-b903-ab764954435f",
   "metadata": {},
   "outputs": [],
   "source": []
  }
 ],
 "metadata": {
  "kernelspec": {
   "display_name": "Python (ds-env)",
   "language": "python",
   "name": "ds-env"
  },
  "language_info": {
   "codemirror_mode": {
    "name": "ipython",
    "version": 3
   },
   "file_extension": ".py",
   "mimetype": "text/x-python",
   "name": "python",
   "nbconvert_exporter": "python",
   "pygments_lexer": "ipython3",
   "version": "3.11.11"
  }
 },
 "nbformat": 4,
 "nbformat_minor": 5
}
