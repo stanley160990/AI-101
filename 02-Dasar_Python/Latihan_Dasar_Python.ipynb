{
 "cells": [
  {
   "cell_type": "markdown",
   "metadata": {},
   "source": [
    "<center><a href=\"https://www.nvidia.com/dli\"> <img src=\"Pelatihan-DLI.jpeg\" alt=\"Header\" style=\"width: 1000px;\"/> </a></center>"
   ]
  },
  {
   "cell_type": "markdown",
   "metadata": {},
   "source": [
    "# Latihan: Dasar Pemrograman Python untuk TNI\n",
    "\n",
    "Notebook ini berisi kumpulan **tugas dan latihan praktis** untuk menguasai dasar-dasar Python. \n",
    "\n",
    "## 🧭 Daftar Materi Latihan\n",
    "1. Dasar Pemrograman Python\n",
    "2. Python Fundamental & Concept\n",
    "3. Jupyter Notebook Basics\n",
    "4. Python Variable & Data Types\n",
    "5. Python Condition & Looping\n",
    "\n",
    "---\n",
    "Gunakan `Shift + Enter` untuk menjalankan setiap cell.\n",
    "Tulis jawaban Anda di area latihan yang disediakan."
   ]
  },
  {
   "cell_type": "markdown",
   "metadata": {},
   "source": [
    "## 1️⃣ Dasar Pemrograman Python\n",
    "\n",
    "### 🎯 Tujuan\n",
    "- Memahami fungsi dasar `print()` untuk menampilkan teks dan hasil perhitungan.\n",
    "- Mempelajari cara kerja `input()` untuk menerima data dari pengguna.\n",
    "\n",
    "### 📘 Contoh:\n",
    "```python\n",
    "print(\"Selamat datang di pelatihan Python TNI!\")\n",
    "nama = input(\"Masukkan nama prajurit: \")\n",
    "print(\"Siap! Prajurit\", nama, \"siap bertugas!\")\n",
    "```\n",
    "\n",
    "### 🧩 **Latihan 1.1**\n",
    "1. Tampilkan pesan sambutan seperti: “Selamat datang di Komando Python TNI!”\n",
    "2. Minta input nama pengguna, lalu tampilkan pesan: `Halo, [nama]! Siap belajar Python.`"
   ]
  },
  {
   "cell_type": "code",
   "execution_count": null,
   "metadata": {},
   "outputs": [],
   "source": [
    "# 🧩 Latihan 1.1: Ketik jawaban Anda di bawah ini\n",
    "\n",
    "# TODO: buat program sambutan + input nama\n",
    "\n"
   ]
  },
  {
   "cell_type": "markdown",
   "metadata": {},
   "source": [
    "## 2️⃣ Python Fundamental & Concept\n",
    "\n",
    "### 🎯 Tujuan\n",
    "- Memahami konsep *Input → Process → Output*.\n",
    "- Melatih logika berpikir terstruktur menggunakan Python.\n",
    "\n",
    "### 📘 Contoh:\n",
    "```python\n",
    "prajurit = int(input(\"Jumlah prajurit: \"))\n",
    "amunisi = int(input(\"Amunisi per prajurit: \"))\n",
    "total = prajurit * amunisi\n",
    "print(\"Total amunisi yang dibutuhkan:\", total)\n",
    "```\n",
    "\n",
    "### 🧩 **Latihan 2.1 — Simulasi Logistik**\n",
    "Buat program untuk menghitung total bahan makanan.\n",
    "- Input: jumlah pasukan dan kuota makan per prajurit (paket).\n",
    "- Output: total kuota makan yang dibutuhkan."
   ]
  },
  {
   "cell_type": "code",
   "execution_count": null,
   "metadata": {},
   "outputs": [],
   "source": [
    "# 🧩 Latihan 2.1\n",
    "# TODO: hitung total kuota makan pasukan\n",
    "\n"
   ]
  },
  {
   "cell_type": "markdown",
   "metadata": {},
   "source": [
    "## 3️⃣ Jupyter Notebook\n",
    "\n",
    "### 🎯 Tujuan\n",
    "- Memahami cara kerja cell Markdown dan Code.\n",
    "- Mampu menulis dokumentasi dan menampilkan hasil di notebook.\n",
    "\n",
    "### 🧩 **Latihan 3.1**\n",
    "- Buat satu *Markdown cell* berisi biodata Anda: **Nama, NRP, Satuan, Motivasi belajar Python.**\n",
    "- Tambahkan *Code cell* yang menampilkan pesan motivasi menggunakan `print()`."
   ]
  },
  {
   "cell_type": "code",
   "execution_count": null,
   "metadata": {},
   "outputs": [],
   "source": [
    "# 🧩 Latihan 3.1\n",
    "# TODO: tampilkan pesan motivasi pribadi menggunakan print()\n",
    "\n"
   ]
  },
  {
   "cell_type": "markdown",
   "metadata": {},
   "source": [
    "## 4️⃣ Python Variable & Data Types\n",
    "\n",
    "### 🎯 Tujuan\n",
    "- Memahami cara mendeklarasikan variabel dan tipe data.\n",
    "- Melakukan operasi aritmatika sederhana.\n",
    "\n",
    "### 📘 Contoh:\n",
    "```python\n",
    "pos = \"Utara\"\n",
    "prajurit = 120\n",
    "amunisi = 30\n",
    "print(f\"Pos {pos} memiliki {prajurit * amunisi} butir amunisi.\")\n",
    "```\n",
    "\n",
    "### 🧩 **Latihan 4.1 — Data Pos Operasi**\n",
    "1. Buat variabel `nama_pos`, `jumlah_prajurit`, dan `logistik`.\n",
    "2. Cetak laporan seperti:\n",
    "   > `Pos Selatan memiliki 80 prajurit dan 50 unit logistik.`"
   ]
  },
  {
   "cell_type": "code",
   "execution_count": null,
   "metadata": {},
   "outputs": [],
   "source": [
    "# 🧩 Latihan 4.1\n",
    "# TODO: buat 3 variabel dan tampilkan laporan pos operasi\n",
    "\n"
   ]
  },
  {
   "cell_type": "markdown",
   "metadata": {},
   "source": [
    "### 🧩 **Latihan 4.2 — Operasi Aritmatika**\n",
    "Hitung total amunisi dan tambah 10% cadangan.\n",
    "\n",
    "**Keterangan:**\n",
    "- `total = prajurit * amunisi`\n",
    "- `cadangan = total * 0.1`\n",
    "- `total_final = total + cadangan`\n",
    "\n",
    "Cetak hasilnya dengan format seperti:\n",
    "`Total amunisi akhir (termasuk cadangan): 3300 butir.`"
   ]
  },
  {
   "cell_type": "code",
   "execution_count": null,
   "metadata": {},
   "outputs": [],
   "source": [
    "# 🧩 Latihan 4.2\n",
    "# TODO: hitung total amunisi termasuk cadangan 10%\n",
    "\n"
   ]
  },
  {
   "cell_type": "markdown",
   "metadata": {},
   "source": [
    "## 5️⃣ Python Kondisi (If, Elif, Else)\n",
    "\n",
    "### 🎯 Tujuan\n",
    "- Menggunakan logika kondisi untuk pengambilan keputusan.\n",
    "- Melatih kemampuan *decision making* dalam program.\n",
    "\n",
    "### 📘 Contoh:\n",
    "```python\n",
    "ancaman = int(input(\"Masukkan tingkat ancaman (1-5): \"))\n",
    "\n",
    "if ancaman >= 4:\n",
    "    print(\"⚠️ SIAGA 1 – Kerahkan pasukan penuh!\")\n",
    "elif ancaman == 3:\n",
    "    print(\"SIAGA 2 – Siapkan pasukan cadangan!\")\n",
    "else:\n",
    "    print(\"NORMAL – Pantau situasi secara rutin.\")\n",
    "```\n",
    "\n",
    "### 🧩 **Latihan 5.1 — Sistem Peringatan Siaga**\n",
    "1. Minta input `tingkat_ancaman` (1–5).  \n",
    "2. Tampilkan status berdasarkan level tersebut:\n",
    "   - 5: SIAGA 1\n",
    "   - 4: SIAGA 2\n",
    "   - 3: SIAGA 3\n",
    "   - Lainnya: NORMAL"
   ]
  },
  {
   "cell_type": "code",
   "execution_count": null,
   "metadata": {},
   "outputs": [],
   "source": [
    "# 🧩 Latihan 5.1\n",
    "# TODO: buat sistem status siaga berdasarkan input tingkat ancaman\n",
    "\n"
   ]
  },
  {
   "cell_type": "markdown",
   "metadata": {},
   "source": [
    "## 6️⃣ Python Perulangan (Looping)\n",
    "\n",
    "### 🎯 Tujuan\n",
    "- Mampu menggunakan `for` dan `while` untuk proses perulangan.\n",
    "- Mengolah data dari banyak pos, unit, atau personel.\n",
    "\n",
    "### 📘 Contoh:\n",
    "```python\n",
    "for i in range(3):\n",
    "    print(\"Patroli ke-\", i+1)\n",
    "```\n",
    "\n",
    "### 🧩 **Latihan 6.1 — Laporan Tiap Pos**\n",
    "Buat program untuk mencatat jumlah prajurit dari beberapa pos.\n",
    "- Input jumlah pos.\n",
    "- Gunakan `for` untuk mengulangi input.\n",
    "- Cetak total keseluruhan prajurit."
   ]
  },
  {
   "cell_type": "code",
   "execution_count": null,
   "metadata": {},
   "outputs": [],
   "source": [
    "# 🧩 Latihan 6.1\n",
    "# TODO: gunakan perulangan for untuk menjumlah total prajurit dari beberapa pos\n",
    "\n"
   ]
  },
  {
   "cell_type": "markdown",
   "metadata": {},
   "source": [
    "### 🧩 **Latihan 6.2 — Perulangan While**\n",
    "Gunakan perulangan `while` untuk menampilkan daftar laporan hingga batas tertentu.\n",
    "\n",
    "Contoh: menampilkan laporan hingga `laporan_ke-5`."
   ]
  },
  {
   "cell_type": "code",
   "execution_count": null,
   "metadata": {},
   "outputs": [],
   "source": [
    "# 🧩 Latihan 6.2\n",
    "# TODO: gunakan while loop untuk menampilkan laporan berulang\n",
    "\n"
   ]
  },
  {
   "cell_type": "markdown",
   "metadata": {},
   "source": [
    "## 7️⃣ Mini Project: Sistem Pemantauan Pos TNI\n",
    "\n",
    "### 🎯 Tujuan Akhir\n",
    "Menggabungkan seluruh konsep (variabel, input/output, kondisi, perulangan) menjadi satu sistem sederhana.\n",
    "\n",
    "**Deskripsi Tugas:**\n",
    "- Program menerima jumlah pos.\n",
    "- Untuk tiap pos, input: nama, jumlah prajurit, dan jumlah logistik.\n",
    "- Jika logistik < 50 → tampilkan peringatan kekurangan.\n",
    "- Cetak ringkasan laporan semua pos di akhir.\n",
    "\n",
    "**Contoh Output:**\n",
    "```\n",
    "=== RINGKASAN LAPORAN ===\n",
    "Pos Utara - 120 prajurit - 🚨 Kekurangan logistik\n",
    "Pos Timur - 100 prajurit - ✅ Aman\n",
    "Total prajurit: 220\n",
    "```"
   ]
  },
  {
   "cell_type": "code",
   "execution_count": null,
   "metadata": {},
   "outputs": [],
   "source": [
    "# 🧩 Mini Project Akhir\n",
    "# TODO: bangun sistem pemantauan pos seperti deskripsi di atas\n",
    "\n"
   ]
  }
 ],
 "metadata": {
  "kernelspec": {
   "display_name": "Python 3 (ipykernel)",
   "language": "python",
   "name": "python3"
  },
  "language_info": {
   "codemirror_mode": {
    "name": "ipython",
    "version": 3
   },
   "file_extension": ".py",
   "mimetype": "text/x-python",
   "name": "python",
   "nbconvert_exporter": "python",
   "pygments_lexer": "ipython3",
   "version": "3.11.11"
  }
 },
 "nbformat": 4,
 "nbformat_minor": 4
}
