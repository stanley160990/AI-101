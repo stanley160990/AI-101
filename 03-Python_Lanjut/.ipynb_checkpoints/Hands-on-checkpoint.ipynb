{
 "cells": [
  {
   "cell_type": "markdown",
   "metadata": {},
   "source": [
    "<center><a href=\"https://www.nvidia.com/dli\"> <img src=\"Pelatihan-DLI.jpeg\" alt=\"Header\" style=\"width: 1000px;\"/> </a></center>"
   ]
  },
  {
   "cell_type": "markdown",
   "metadata": {},
   "source": [
    "# Tugas Mandiri Pemrograman Python Lanjut"
   ]
  },
  {
   "cell_type": "markdown",
   "metadata": {},
   "source": [
    "## Buat tabel profil\n",
    "* Buat Koneksi dengan detail sebagai berikut:\n",
    "    * host: 202.124.198.43\n",
    "    * username: tugas\n",
    "    * password: margonda101\n",
    "    * database: db_tugas"
   ]
  },
  {
   "cell_type": "code",
   "execution_count": null,
   "metadata": {},
   "outputs": [],
   "source": [
    "# -------- Buat Koneksi disini -----------"
   ]
  },
  {
   "cell_type": "markdown",
   "metadata": {},
   "source": [
    "## Buat Tabel Tabel\n",
    "* Buat table dengan nama profile_{nama_pertama_peserta} jika nama bapak jay idzes maka nama tabelnya **profile_jay** dengan kolom:\n",
    "    * nama tipe data varchar(255)\n",
    "    * Alamat tipe data varchar(255)\n",
    "    * jenis_kelamin tipe data varchar(255"
   ]
  },
  {
   "cell_type": "code",
   "execution_count": null,
   "metadata": {},
   "outputs": [],
   "source": [
    "# --------- Buat Tabel Disini -------------"
   ]
  },
  {
   "cell_type": "markdown",
   "metadata": {},
   "source": [
    "## Isi data tabel profile\n",
    "* Isi tabel Profile dengan: Nama, alamat, dan jenis_kelamin sebanyak 5 Data"
   ]
  },
  {
   "cell_type": "code",
   "execution_count": null,
   "metadata": {},
   "outputs": [],
   "source": [
    "# --------- Isi Tabel Disini -------------"
   ]
  },
  {
   "cell_type": "markdown",
   "metadata": {},
   "source": [
    "## Tampilan Data\n",
    "* Tampilkan isi Semua Data"
   ]
  },
  {
   "cell_type": "code",
   "execution_count": null,
   "metadata": {},
   "outputs": [],
   "source": [
    "# --------- Tampilkan Seluruh Data ---------"
   ]
  }
 ],
 "metadata": {
  "kernelspec": {
   "display_name": "Python 3 (ipykernel)",
   "language": "python",
   "name": "python3"
  },
  "language_info": {
   "codemirror_mode": {
    "name": "ipython",
    "version": 3
   },
   "file_extension": ".py",
   "mimetype": "text/x-python",
   "name": "python",
   "nbconvert_exporter": "python",
   "pygments_lexer": "ipython3",
   "version": "3.10.12"
  }
 },
 "nbformat": 4,
 "nbformat_minor": 4
}
