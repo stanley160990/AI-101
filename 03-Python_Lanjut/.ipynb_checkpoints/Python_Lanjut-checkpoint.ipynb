{
 "cells": [
  {
   "cell_type": "markdown",
   "metadata": {},
   "source": [
    "<center><a href=\"https://www.nvidia.com/dli\"> <img src=\"Pelatihan-DLI.jpeg\" alt=\"Header\" style=\"width: 1000px;\"/> </a></center>"
   ]
  },
  {
   "cell_type": "markdown",
   "metadata": {},
   "source": [
    "# Pelatihan Pemrograman Python Lanjut\n",
    "\n",
    "Notebook ini merupakan bagian dari pelatihan **Dasar Pemrograman Python** untuk peserta TNI.\n",
    "\n",
    "---\n",
    "## 🎯 Tujuan Pembelajaran\n",
    "- Fungsi dan Prosedur Pada Bahasa Python\n",
    "- Class Pada Python\n",
    "- Koneksi Database: Mysql, PostgreSQL, Redis\n",
    "\n",
    "---\n",
    "💻 **Gunakan perintah `Shift + Enter` untuk menjalankan setiap cell di bawah ini.**"
   ]
  },
  {
   "cell_type": "markdown",
   "metadata": {},
   "source": [
    "## Fungsi dan Prosedur\n",
    "\n",
    "Fungsi dan prosedur di Python merupakan blok kode yang dirancang untuk menjalankan tugas tertentu secara terstruktur dan efisien. Fungsi (function) digunakan untuk mengelompokkan serangkaian perintah agar dapat dipanggil kembali tanpa menulis ulang kode yang sama, sehingga meningkatkan modularitas dan keterbacaan program.\n",
    "\n",
    "### Fungsi\n",
    "Fungsi (function) digunakan untuk mengelompokkan serangkaian perintah agar dapat dipanggil kembali tanpa menulis ulang kode yang sama, sehingga meningkatkan modularitas dan keterbacaan program. Fungsi didefinisikan dengan kata kunci def, dapat menerima parameter (input) dan mengembalikan nilai (output) menggunakan pernyataan return\n",
    "\n",
    "### Prosedur\n",
    "Sementara itu, prosedur pada dasarnya mirip dengan fungsi, namun biasanya tidak mengembalikan nilai; fungsinya lebih kepada menjalankan serangkaian instruksi atau tindakan tertentu, seperti menampilkan data atau mencetak hasil.\n"
   ]
  },
  {
   "cell_type": "markdown",
   "metadata": {},
   "source": [
    "### Penggunaan Prosedur\n",
    "Salah satu yang membedakan prosedur dan fungsi adalah tidak ada pengembalian nilai, atau ditandai dengan adanya syntax return"
   ]
  },
  {
   "cell_type": "code",
   "execution_count": null,
   "metadata": {},
   "outputs": [],
   "source": [
    "def cetak_nama():\n",
    "    print(\"nama\")\n",
    "\n",
    "cetak_nama()"
   ]
  },
  {
   "cell_type": "code",
   "execution_count": null,
   "metadata": {},
   "outputs": [],
   "source": [
    "def cetak_nama(parameter):\n",
    "    print(\"Nama Saya \" + parameter)\n",
    "\n",
    "cetak_nama(\"Koko Bachrudin\")"
   ]
  },
  {
   "cell_type": "code",
   "execution_count": null,
   "metadata": {},
   "outputs": [],
   "source": [
    "def cetak_nama(parameter):\n",
    "    print(\"nama Saya \" + parameter)\n",
    "\n",
    "var = input(\"Masukkan nama:\")\n",
    "cetak_nama(var)"
   ]
  },
  {
   "cell_type": "markdown",
   "metadata": {},
   "source": [
    "### Penggunaan Fungsi\n",
    "Fungsi ditandai dengan pengembalian nilai atau terdapat perintah return"
   ]
  },
  {
   "cell_type": "code",
   "execution_count": null,
   "metadata": {},
   "outputs": [],
   "source": [
    "def penjumlahan(a,b):\n",
    "    return (a + b)\n",
    "\n",
    "penjumlahan(100,20)"
   ]
  },
  {
   "cell_type": "markdown",
   "metadata": {},
   "source": [
    "#### Tantangan 1"
   ]
  },
  {
   "cell_type": "code",
   "execution_count": null,
   "metadata": {},
   "outputs": [],
   "source": [
    "def penjumlahan(a,b,c):\n",
    "    jumlah = a + b + c\n",
    "\n",
    "    return jumlah\n",
    "var1 = input(\"Masukkan Angka 1:\")\n",
    "var2 = input(\"Masukkan Angka 2:\")\n",
    "var3 = input(\"Masukkan Angka 3:\")\n",
    "\n",
    "penjumlahan(var1, var2, var3)"
   ]
  },
  {
   "cell_type": "markdown",
   "metadata": {},
   "source": [
    "## Class Python\n",
    "Class adalah template atau blueprint untuk membuat objek. Objek adalah representasi nyata dari sesuatu yang memiliki atribut (data) dan perilaku (fungsi/metode).\n",
    "\n",
    "Contohnya, jika kita memiliki class Mobil, maka setiap mobil yang dibuat dari class tersebut (misalnya mobil1, mobil2) adalah objek dengan karakteristik dan fungsi masing-masing."
   ]
  },
  {
   "cell_type": "markdown",
   "metadata": {},
   "source": [
    "### Contoh Penggunaan Class"
   ]
  },
  {
   "cell_type": "code",
   "execution_count": null,
   "metadata": {},
   "outputs": [],
   "source": [
    "# Definisi Class\n",
    "class Mobil:\n",
    "    def __init__(self, merk, warna):\n",
    "        self.merk = merk      # atribut\n",
    "        self.warna = warna    # atribut\n",
    "\n",
    "    def info(self):           # metode\n",
    "        print(f\"Mobil {self.merk} berwarna {self.warna}\")"
   ]
  },
  {
   "cell_type": "code",
   "execution_count": null,
   "metadata": {},
   "outputs": [],
   "source": [
    "# Memanggil Fungsi\n",
    "# Membuat objek dari class Mobil\n",
    "mobil1 = Mobil(\"Toyota\", \"Merah\")\n",
    "mobil2 = Mobil(\"Honda\", \"Hitam\")\n",
    "\n",
    "# Memanggil metode\n",
    "mobil1.info()\n",
    "mobil2.info()"
   ]
  },
  {
   "cell_type": "markdown",
   "metadata": {},
   "source": [
    "## Koneksi Database\n",
    "Koneksi database di bahasa Python merupakan proses menghubungkan program Python dengan sistem manajemen basis data (DBMS) seperti MySQL, PostgreSQL, dan Redis agar dapat melakukan operasi seperti menyimpan, mengambil, memperbarui, dan menghapus data. Proses ini umumnya dilakukan menggunakan modul atau library khusus seperti: mysql.connector untuk MySQL, atau psycopg2 untuk PostgreSQL."
   ]
  },
  {
   "cell_type": "markdown",
   "metadata": {},
   "source": [
    "### Koneksi Menggunakan Database MySQL\n",
    "#### Installasi Library/Fungsi untuk koneksi ke database MySQL"
   ]
  },
  {
   "cell_type": "code",
   "execution_count": null,
   "metadata": {},
   "outputs": [],
   "source": [
    "!pip install mysql-connector-python"
   ]
  },
  {
   "cell_type": "code",
   "execution_count": null,
   "metadata": {},
   "outputs": [],
   "source": [
    "import mysql.connector\n",
    "\n",
    "# Membuat koneksi ke database MySQL\n",
    "db = mysql.connector.connect(\n",
    "    host=\"202.124.198.43\",       # Nama host database (bisa juga IP)\n",
    "    user=\"pelatihan_tni\",            # Username MySQL\n",
    "    password=\"margonda100\", # Password MySQL\n",
    "    database=\"pelatihan_akmil\"   # Nama database yang ingin digunakan\n",
    ")"
   ]
  },
  {
   "cell_type": "code",
   "execution_count": null,
   "metadata": {},
   "outputs": [],
   "source": [
    "if db.is_connected():\n",
    "    print(\"Berhasil terhubung ke database!\")"
   ]
  },
  {
   "cell_type": "markdown",
   "metadata": {},
   "source": [
    "#### Membuat Tabel di Database"
   ]
  },
  {
   "cell_type": "code",
   "execution_count": null,
   "metadata": {},
   "outputs": [],
   "source": [
    "# Membuat cursor untuk menjalankan query\n",
    "cursor = db.cursor()"
   ]
  },
  {
   "cell_type": "code",
   "execution_count": null,
   "metadata": {},
   "outputs": [],
   "source": [
    "sql = \"\"\"\n",
    "CREATE TABLE mahasiswa (\n",
    "    id INT AUTO_INCREMENT PRIMARY KEY,\n",
    "    nama VARCHAR(100) NOT NULL,\n",
    "    nim VARCHAR(20) NOT NULL UNIQUE,\n",
    "    jurusan VARCHAR(50),\n",
    "    angkatan YEAR\n",
    ")\n",
    "\"\"\""
   ]
  },
  {
   "cell_type": "code",
   "execution_count": null,
   "metadata": {},
   "outputs": [],
   "source": [
    "try:\n",
    "    cursor.execute(sql)\n",
    "    print(\"Tabel 'mahasiswa' berhasil dibuat!\")\n",
    "except mysql.connector.Error as err:\n",
    "    print(f\"Gagal membuat tabel: {err}\")"
   ]
  },
  {
   "cell_type": "markdown",
   "metadata": {},
   "source": [
    "#### Melihat isi Tabel"
   ]
  },
  {
   "cell_type": "code",
   "execution_count": null,
   "metadata": {},
   "outputs": [],
   "source": [
    "sql = \"select * from mahasiswa\""
   ]
  },
  {
   "cell_type": "code",
   "execution_count": null,
   "metadata": {},
   "outputs": [],
   "source": [
    "cursor.execute(sql)\n",
    "results = cursor.fetchall()"
   ]
  },
  {
   "cell_type": "code",
   "execution_count": null,
   "metadata": {},
   "outputs": [],
   "source": [
    "for row in results:\n",
    "    print(row)"
   ]
  },
  {
   "cell_type": "markdown",
   "metadata": {},
   "source": [
    "#### Mengisi Tabel"
   ]
  },
  {
   "cell_type": "code",
   "execution_count": null,
   "metadata": {},
   "outputs": [],
   "source": [
    "insert_sql = \"insert into mahasiswa(nama,nim,jurusan,angkatan) value('Koko Bachrudin','11108121','Teknologi Informasi', 2025)\""
   ]
  },
  {
   "cell_type": "code",
   "execution_count": null,
   "metadata": {},
   "outputs": [],
   "source": [
    "cursor.execute(insert_sql)"
   ]
  },
  {
   "cell_type": "code",
   "execution_count": null,
   "metadata": {},
   "outputs": [],
   "source": [
    "# Memeriksa apakah Tabel sudah terisi\n",
    "sql = \"select * from mahasiswa\"\n",
    "cursor.execute(sql)\n",
    "results = cursor.fetchall()\n",
    "for row in results:\n",
    "    print(row)"
   ]
  },
  {
   "cell_type": "code",
   "execution_count": null,
   "metadata": {},
   "outputs": [],
   "source": [
    "# Menutup koneksi\n",
    "cursor.close()\n",
    "db.close()"
   ]
  }
 ],
 "metadata": {
  "kernelspec": {
   "display_name": "Python 3 (ipykernel)",
   "language": "python",
   "name": "python3"
  },
  "language_info": {
   "codemirror_mode": {
    "name": "ipython",
    "version": 3
   },
   "file_extension": ".py",
   "mimetype": "text/x-python",
   "name": "python",
   "nbconvert_exporter": "python",
   "pygments_lexer": "ipython3",
   "version": "3.10.12"
  }
 },
 "nbformat": 4,
 "nbformat_minor": 4
}
