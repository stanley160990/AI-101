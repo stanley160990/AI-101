{
 "cells": [
  {
   "cell_type": "markdown",
   "metadata": {},
   "source": [
    "<center><a href=\"https://www.nvidia.com/dli\"> <img src=\"Pelatihan-DLI.jpeg\" alt=\"Header\" style=\"width: 1000px;\"/> </a></center>"
   ]
  },
  {
   "cell_type": "markdown",
   "metadata": {},
   "source": [
    "# Pelatihan Pemrograman Python Lanjut\n",
    "\n",
    "Notebook ini merupakan bagian dari pelatihan **Dasar Pemrograman Python** untuk peserta TNI.\n",
    "\n",
    "---\n",
    "## 🎯 Tujuan Pembelajaran\n",
    "- Tipe Data Lanjut\n",
    "- Fungsi dan Prosedur Pada Bahasa Python\n",
    "- Class Pada Python\n",
    "- Koneksi Database: Mysql, Redis\n",
    "\n",
    "---\n",
    "💻 **Gunakan perintah `Shift + Enter` untuk menjalankan setiap cell di bawah ini.**"
   ]
  },
  {
   "cell_type": "markdown",
   "metadata": {},
   "source": [
    "## Tipe Data Lanjut\n",
    "Pada Bagian ini akan dijelaskan tipe data lanjutan yang ada di Python. Tipe data yang dibahas adalah tipe data List, Tuple, dan Dictonary. Bagian ini juga membahas tentang Variabel casting atau mengubah tipe data yang ada."
   ]
  },
  {
   "cell_type": "markdown",
   "metadata": {},
   "source": [
    "### Tipe data List dan Tuple\n",
    "Tipe data yang berisi sebuah List/Daftar"
   ]
  },
  {
   "cell_type": "code",
   "execution_count": null,
   "metadata": {},
   "outputs": [],
   "source": [
    "buah = [\"mangga\", \"pisang\", \"jambu\", \"jeruk\"]\n",
    "mobil = [\"toyota\", \"BMW\", \"Honda\", \"Mazda\"]\n",
    "\n",
    "tup_buah = (\"mangga\", \"pisang\", \"jambu\", \"jeruk\")\n",
    "tup_mobil = (\"toyota\", \"BMW\", \"Honda\", \"Mazda\")"
   ]
  },
  {
   "cell_type": "code",
   "execution_count": null,
   "metadata": {},
   "outputs": [],
   "source": [
    "print(buah)\n",
    "print(mobil)\n",
    "\n",
    "print(tup_buah)\n",
    "print(tup_mobil)"
   ]
  },
  {
   "cell_type": "markdown",
   "metadata": {},
   "source": [
    "Setiap List dan Tupple memiliki index untuk menandai setiap value yang ada didalamnya\n",
    "\n",
    "![index pada list](./python-list-index.png)\n",
    "\n",
    "Setiap value dapat diakses menggunakan index yang dimiliki baik index postif maupun negatif"
   ]
  },
  {
   "cell_type": "markdown",
   "metadata": {},
   "source": [
    "#### Akses Value dari list dan Tupple Berdasarkan Index"
   ]
  },
  {
   "cell_type": "code",
   "execution_count": null,
   "metadata": {},
   "outputs": [],
   "source": [
    "# akses index ke 4 dari list/Tupple\n",
    "print(buah[3])\n",
    "print(mobil[3])\n",
    "\n",
    "print(tup_buah[3])\n",
    "print(mobil[3])"
   ]
  },
  {
   "cell_type": "markdown",
   "metadata": {},
   "source": [
    "#### Mengubah Value dari List dan Tupple"
   ]
  },
  {
   "cell_type": "code",
   "execution_count": null,
   "metadata": {},
   "outputs": [],
   "source": [
    "print(buah)\n",
    "print(mobil)"
   ]
  },
  {
   "cell_type": "code",
   "execution_count": null,
   "metadata": {},
   "outputs": [],
   "source": [
    "buah[3] = \"Apel\"\n",
    "mobil[3] = \"Hyundai\""
   ]
  },
  {
   "cell_type": "code",
   "execution_count": null,
   "metadata": {},
   "outputs": [],
   "source": [
    "print(buah)\n",
    "print(mobil)"
   ]
  },
  {
   "cell_type": "code",
   "execution_count": null,
   "metadata": {},
   "outputs": [],
   "source": [
    "print(tup_buah)\n",
    "print(tup_mobil)"
   ]
  },
  {
   "cell_type": "code",
   "execution_count": null,
   "metadata": {},
   "outputs": [],
   "source": [
    "tup_buah[3] = \"Apel\"\n",
    "tup_mobil[3] = \"Hyundai\""
   ]
  },
  {
   "cell_type": "markdown",
   "metadata": {},
   "source": [
    "### Tipe Data Dictonary\n",
    "Dictionary adalah koleksi data yang menyimpan pasangan kunci-nilai (key-value) yang tidak berurutan (unordered) dan dapat berubah (mutable)"
   ]
  },
  {
   "cell_type": "code",
   "execution_count": null,
   "metadata": {},
   "outputs": [],
   "source": [
    "profil = {\"nama\": \"Koko Bachrudin\", \"Alamat\": \"Depok\", \"no_hp\": \"08123345678\"}\n",
    "print(profil)"
   ]
  },
  {
   "cell_type": "markdown",
   "metadata": {},
   "source": [
    "#### Akses Value dari Dictoanry\n",
    "Untuk mengakses value dari dictonary diperlukan key dari dictonary tersebut\n",
    "![Python Dictonary](pythondict.png)"
   ]
  },
  {
   "cell_type": "code",
   "execution_count": null,
   "metadata": {},
   "outputs": [],
   "source": [
    "print(profil[\"nama\"])\n",
    "print(profil[\"no_hp\"])"
   ]
  },
  {
   "cell_type": "markdown",
   "metadata": {},
   "source": [
    "#### Mengubah Nilai dari dictonary"
   ]
  },
  {
   "cell_type": "code",
   "execution_count": null,
   "metadata": {},
   "outputs": [],
   "source": [
    "# mengubah nilai dari suatu key\n",
    "profil[\"nama\"] = \"Koko Budiman\"\n",
    "print(profil)"
   ]
  },
  {
   "cell_type": "code",
   "execution_count": null,
   "metadata": {},
   "outputs": [],
   "source": [
    "# Menambahkan Key-Value pair baru\n",
    "profil[\"jenis Kelamin\"] = \"Laki-Laki\"\n",
    "print(profil)"
   ]
  },
  {
   "cell_type": "markdown",
   "metadata": {},
   "source": [
    "### Gabungan Tipe Data\n",
    "Adanya List, tuple dan Dictonary bisa dilakukan penggabungan antar satu dengan lain-nya."
   ]
  },
  {
   "cell_type": "code",
   "execution_count": null,
   "metadata": {},
   "outputs": [],
   "source": [
    "all_profil = [{\"nama\": \"Koko Bachrudin\", \"Alamat\": \"Depok\", \"no_hp\": \"08123345678\"},\n",
    "             {\"nama\": \"Adi Sudarsono\", \"Alamat\": \"Bogor\", \"no_hp\": \"081233478678\"}]\n",
    "print(all_profil)"
   ]
  },
  {
   "cell_type": "code",
   "execution_count": null,
   "metadata": {},
   "outputs": [],
   "source": [
    "all_profil_2 = [{\"nama\": \"Koko Bachrudin\", \"Alamat\": [\"Depok\", \"jakarta\"], \"no_hp\": \"08123345678\"},\n",
    "             {\"nama\": \"Adi Sudarsono\", \"Alamat\": [\"Bogor\",\"Surabaya\"], \"no_hp\": \"081233478678\"}]\n",
    "print(all_profil_2)"
   ]
  },
  {
   "cell_type": "markdown",
   "metadata": {},
   "source": [
    "## Fungsi dan Prosedur\n",
    "\n",
    "Fungsi dan prosedur di Python merupakan blok kode yang dirancang untuk menjalankan tugas tertentu secara terstruktur dan efisien. Fungsi (function) digunakan untuk mengelompokkan serangkaian perintah agar dapat dipanggil kembali tanpa menulis ulang kode yang sama, sehingga meningkatkan modularitas dan keterbacaan program.\n",
    "\n",
    "### Fungsi\n",
    "Fungsi (function) digunakan untuk mengelompokkan serangkaian perintah agar dapat dipanggil kembali tanpa menulis ulang kode yang sama, sehingga meningkatkan modularitas dan keterbacaan program. Fungsi didefinisikan dengan kata kunci def, dapat menerima parameter (input) dan mengembalikan nilai (output) menggunakan pernyataan return\n",
    "\n",
    "### Prosedur\n",
    "Sementara itu, prosedur pada dasarnya mirip dengan fungsi, namun biasanya tidak mengembalikan nilai; fungsinya lebih kepada menjalankan serangkaian instruksi atau tindakan tertentu, seperti menampilkan data atau mencetak hasil.\n"
   ]
  },
  {
   "cell_type": "markdown",
   "metadata": {},
   "source": [
    "### Penggunaan Prosedur\n",
    "Salah satu yang membedakan prosedur dan fungsi adalah tidak ada pengembalian nilai, atau ditandai dengan adanya syntax return"
   ]
  },
  {
   "cell_type": "code",
   "execution_count": null,
   "metadata": {},
   "outputs": [],
   "source": [
    "def cetak_nama():\n",
    "    print(\"nama\")\n",
    "\n",
    "cetak_nama()"
   ]
  },
  {
   "cell_type": "code",
   "execution_count": null,
   "metadata": {},
   "outputs": [],
   "source": [
    "def cetak_nama(parameter):\n",
    "    print(\"Nama Saya \" + parameter)\n",
    "\n",
    "cetak_nama(\"Koko Bachrudin\")"
   ]
  },
  {
   "cell_type": "code",
   "execution_count": null,
   "metadata": {},
   "outputs": [],
   "source": [
    "def cetak_nama(parameter):\n",
    "    print(\"nama Saya \" + parameter)\n",
    "\n",
    "var = input(\"Masukkan nama:\")\n",
    "cetak_nama(var)"
   ]
  },
  {
   "cell_type": "markdown",
   "metadata": {},
   "source": [
    "### Penggunaan Fungsi\n",
    "Fungsi ditandai dengan pengembalian nilai atau terdapat perintah return"
   ]
  },
  {
   "cell_type": "code",
   "execution_count": null,
   "metadata": {},
   "outputs": [],
   "source": [
    "def penjumlahan(a,b):\n",
    "    return (a + b)\n",
    "\n",
    "penjumlahan(100,20)"
   ]
  },
  {
   "cell_type": "markdown",
   "metadata": {},
   "source": [
    "#### Tantangan 1\n",
    "Buat inputan user untu potongan Program Berikut:"
   ]
  },
  {
   "cell_type": "code",
   "execution_count": null,
   "metadata": {},
   "outputs": [],
   "source": [
    "def penjumlahan(a,b,c):\n",
    "    jumlah = a + b + c\n",
    "\n",
    "    return jumlah\n",
    "var1 = \n",
    "var2 = \n",
    "var3 = \n",
    "\n",
    "penjumlahan(var1, var2, var3)"
   ]
  },
  {
   "cell_type": "markdown",
   "metadata": {},
   "source": [
    "## Class Python\n",
    "Class adalah template atau blueprint untuk membuat objek. Objek adalah representasi nyata dari sesuatu yang memiliki atribut (data) dan perilaku (fungsi/metode).\n",
    "\n",
    "Contohnya, jika kita memiliki class Mobil, maka setiap mobil yang dibuat dari class tersebut (misalnya mobil1, mobil2) adalah objek dengan karakteristik dan fungsi masing-masing."
   ]
  },
  {
   "cell_type": "markdown",
   "metadata": {},
   "source": [
    "### Contoh Penggunaan Class"
   ]
  },
  {
   "cell_type": "code",
   "execution_count": null,
   "metadata": {},
   "outputs": [],
   "source": [
    "# Definisi Class\n",
    "class Mobil:\n",
    "    def __init__(self, merk, warna):\n",
    "        self.merk = merk      # atribut\n",
    "        self.warna = warna    # atribut\n",
    "\n",
    "    def info(self):           # metode\n",
    "        print(f\"Mobil {self.merk} berwarna {self.warna}\")"
   ]
  },
  {
   "cell_type": "code",
   "execution_count": null,
   "metadata": {},
   "outputs": [],
   "source": [
    "# Memanggil Fungsi\n",
    "# Membuat objek dari class Mobil\n",
    "mobil1 = Mobil(\"Toyota\", \"Merah\")\n",
    "mobil2 = Mobil(\"Honda\", \"Hitam\")\n",
    "\n",
    "# Memanggil metode\n",
    "mobil1.info()\n",
    "mobil2.info()"
   ]
  },
  {
   "cell_type": "markdown",
   "metadata": {},
   "source": [
    "## Koneksi Database\n",
    "Koneksi database di bahasa Python merupakan proses menghubungkan program Python dengan sistem manajemen basis data (DBMS) seperti MySQL, PostgreSQL, dan Redis agar dapat melakukan operasi seperti menyimpan, mengambil, memperbarui, dan menghapus data. Proses ini umumnya dilakukan menggunakan modul atau library khusus seperti: mysql.connector untuk MySQL, atau psycopg2 untuk PostgreSQL."
   ]
  },
  {
   "cell_type": "markdown",
   "metadata": {},
   "source": [
    "### Koneksi Menggunakan Database MySQL\n",
    "#### Installasi Library/Fungsi untuk koneksi ke database MySQL"
   ]
  },
  {
   "cell_type": "code",
   "execution_count": null,
   "metadata": {},
   "outputs": [],
   "source": [
    "!pip install mysql-connector-python"
   ]
  },
  {
   "cell_type": "code",
   "execution_count": null,
   "metadata": {},
   "outputs": [],
   "source": [
    "import mysql.connector\n",
    "\n",
    "# Membuat koneksi ke database MySQL\n",
    "db = mysql.connector.connect(\n",
    "    host=\"202.124.198.43\",       # Nama host database (bisa juga IP)\n",
    "    user=\"pelatihan_tni\",            # Username MySQL\n",
    "    password=\"margonda100\", # Password MySQL\n",
    "    database=\"pelatihan_akmil\"   # Nama database yang ingin digunakan\n",
    ")"
   ]
  },
  {
   "cell_type": "code",
   "execution_count": null,
   "metadata": {},
   "outputs": [],
   "source": [
    "if db.is_connected():\n",
    "    print(\"Berhasil terhubung ke database!\")"
   ]
  },
  {
   "cell_type": "markdown",
   "metadata": {},
   "source": [
    "#### Membuat Tabel di Database"
   ]
  },
  {
   "cell_type": "code",
   "execution_count": null,
   "metadata": {},
   "outputs": [],
   "source": [
    "# Membuat cursor untuk menjalankan query\n",
    "cursor = db.cursor()"
   ]
  },
  {
   "cell_type": "code",
   "execution_count": null,
   "metadata": {},
   "outputs": [],
   "source": [
    "sql = \"\"\"\n",
    "CREATE TABLE mahasiswa (\n",
    "    id INT AUTO_INCREMENT PRIMARY KEY,\n",
    "    nama VARCHAR(100) NOT NULL,\n",
    "    nim VARCHAR(20) NOT NULL UNIQUE,\n",
    "    jurusan VARCHAR(50),\n",
    "    angkatan YEAR\n",
    ")\n",
    "\"\"\""
   ]
  },
  {
   "cell_type": "code",
   "execution_count": null,
   "metadata": {},
   "outputs": [],
   "source": [
    "try:\n",
    "    cursor.execute(sql)\n",
    "    print(\"Tabel 'mahasiswa' berhasil dibuat!\")\n",
    "except mysql.connector.Error as err:\n",
    "    print(f\"Gagal membuat tabel: {err}\")"
   ]
  },
  {
   "cell_type": "markdown",
   "metadata": {},
   "source": [
    "#### Melihat isi Tabel"
   ]
  },
  {
   "cell_type": "code",
   "execution_count": null,
   "metadata": {},
   "outputs": [],
   "source": [
    "sql = \"select * from mahasiswa\""
   ]
  },
  {
   "cell_type": "code",
   "execution_count": null,
   "metadata": {},
   "outputs": [],
   "source": [
    "cursor.execute(sql)\n",
    "results = cursor.fetchall()"
   ]
  },
  {
   "cell_type": "code",
   "execution_count": null,
   "metadata": {},
   "outputs": [],
   "source": [
    "for row in results:\n",
    "    print(row)"
   ]
  },
  {
   "cell_type": "markdown",
   "metadata": {},
   "source": [
    "#### Mengisi Tabel"
   ]
  },
  {
   "cell_type": "code",
   "execution_count": null,
   "metadata": {},
   "outputs": [],
   "source": [
    "insert_sql = \"insert into mahasiswa(nama,nim,jurusan,angkatan) value('Koko Bachrudin','11108121','Teknologi Informasi', 2025)\""
   ]
  },
  {
   "cell_type": "code",
   "execution_count": null,
   "metadata": {},
   "outputs": [],
   "source": [
    "cursor.execute(insert_sql)"
   ]
  },
  {
   "cell_type": "code",
   "execution_count": null,
   "metadata": {},
   "outputs": [],
   "source": [
    "# Memeriksa apakah Tabel sudah terisi\n",
    "sql = \"select * from mahasiswa\"\n",
    "cursor.execute(sql)\n",
    "results = cursor.fetchall()\n",
    "for row in results:\n",
    "    print(row)"
   ]
  },
  {
   "cell_type": "code",
   "execution_count": null,
   "metadata": {},
   "outputs": [],
   "source": [
    "# Menutup koneksi\n",
    "cursor.close()\n",
    "db.close()"
   ]
  },
  {
   "cell_type": "markdown",
   "metadata": {},
   "source": [
    "### Koneksi Menggunakan Database Redis"
   ]
  },
  {
   "cell_type": "code",
   "execution_count": 6,
   "metadata": {},
   "outputs": [],
   "source": [
    "import redis\n",
    "r = redis.Redis(\n",
    "        host=\"202.124.198.43\",\n",
    "        port=6379,\n",
    "        db=1,\n",
    "        decode_responses=True,\n",
    "        socket_timeout=5,       # timeout koneksi\n",
    "        socket_connect_timeout=5\n",
    "    )"
   ]
  },
  {
   "cell_type": "code",
   "execution_count": 7,
   "metadata": {},
   "outputs": [
    {
     "name": "stdout",
     "output_type": "stream",
     "text": [
      "Koneksi OK? True\n"
     ]
    }
   ],
   "source": [
    "pong = r.ping()\n",
    "print(f\"Koneksi OK? {pong}\")"
   ]
  },
  {
   "cell_type": "markdown",
   "metadata": {},
   "source": [
    "#### Tipe Data Sederhana di Redis \"SET\""
   ]
  },
  {
   "cell_type": "code",
   "execution_count": 8,
   "metadata": {},
   "outputs": [
    {
     "data": {
      "text/plain": [
       "True"
      ]
     },
     "execution_count": 8,
     "metadata": {},
     "output_type": "execute_result"
    }
   ],
   "source": [
    "# Memasukkan Nilai\n",
    "r.set(\"app:version\", \"1.0.0\")"
   ]
  },
  {
   "cell_type": "code",
   "execution_count": 9,
   "metadata": {},
   "outputs": [
    {
     "data": {
      "text/plain": [
       "'1.0.0'"
      ]
     },
     "execution_count": 9,
     "metadata": {},
     "output_type": "execute_result"
    }
   ],
   "source": [
    "# Mengambil Nilai\n",
    "r.get(\"app:version\")"
   ]
  },
  {
   "cell_type": "code",
   "execution_count": null,
   "metadata": {},
   "outputs": [],
   "source": []
  }
 ],
 "metadata": {
  "kernelspec": {
   "display_name": "Python 3 (ipykernel)",
   "language": "python",
   "name": "python3"
  },
  "language_info": {
   "codemirror_mode": {
    "name": "ipython",
    "version": 3
   },
   "file_extension": ".py",
   "mimetype": "text/x-python",
   "name": "python",
   "nbconvert_exporter": "python",
   "pygments_lexer": "ipython3",
   "version": "3.10.12"
  }
 },
 "nbformat": 4,
 "nbformat_minor": 4
}
