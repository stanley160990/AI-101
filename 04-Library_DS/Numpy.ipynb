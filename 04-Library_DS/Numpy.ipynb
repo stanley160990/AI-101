{
 "cells": [
  {
   "cell_type": "markdown",
   "metadata": {},
   "source": [
    "<center><a href=\"https://www.nvidia.com/dli\"> <img src=\"Pelatihan-DLI.jpeg\" alt=\"Header\" style=\"width: 1000px;\"/> </a></center>"
   ]
  },
  {
   "cell_type": "markdown",
   "metadata": {},
   "source": [
    "# Pengenalan Library Python untuk Data Science dan AI\n",
    "## NumPy (Numerical Python)\n",
    "### Pelatihan Dasar Data Science untuk TNI\n",
    "\n",
    "Notebook ini memperkenalkan **NumPy**, library inti untuk komputasi numerik dalam Python. \n",
    "NumPy digunakan dalam banyak bidang, termasuk **analisis data, simulasi AI, dan sistem militer berbasis data**.\n",
    "\n",
    "---\n",
    "## 🎯 Tujuan Pembelajaran\n",
    "- Memahami konsep dasar library Python.\n",
    "- Mengenal NumPy dan fungsinya dalam Data Science.\n",
    "- Menggunakan array NumPy untuk operasi matematis dan analisis data.\n",
    "- Menerapkan NumPy dalam konteks militer/logistik.\n",
    "\n",
    "_“Data adalah amunisi baru — NumPy adalah mesinnya.”_ "
   ]
  },
  {
   "cell_type": "markdown",
   "metadata": {},
   "source": [
    "## 🟩 1️⃣ Apa itu NumPy?\n",
    "\n",
    "**NumPy (Numerical Python)** adalah library Python untuk **komputasi numerik cepat dan efisien**.\n",
    "\n",
    "### Fitur Utama NumPy:\n",
    "- Menyediakan **struktur data array multidimensi** (`ndarray`).\n",
    "- Mendukung operasi matematika, statistik, dan aljabar linear.\n",
    "- Sangat cepat dibanding `list` Python biasa.\n",
    "- Digunakan oleh library lain seperti Pandas, TensorFlow, dan Scikit-learn."
   ]
  },
  {
   "cell_type": "code",
   "execution_count": null,
   "metadata": {},
   "outputs": [],
   "source": [
    "# Mengimpor Library NumPy\n",
    "import numpy as np\n",
    "\n",
    "print(\"NumPy siap digunakan untuk komputasi data TNI!\")\n",
    "print(\"Versi NumPy:\", np.__version__)"
   ]
  },
  {
   "cell_type": "markdown",
   "metadata": {},
   "source": [
    "## 🟩 2️⃣ Membuat Array NumPy\n",
    "\n",
    "Array (`ndarray`) adalah struktur utama di NumPy untuk menyimpan data numerik.\n",
    "\n",
    "Array seperti barisan nilai: bisa 1 dimensi, 2 dimensi, atau lebih (misalnya matriks sensor radar)."
   ]
  },
  {
   "cell_type": "code",
   "execution_count": null,
   "metadata": {},
   "outputs": [],
   "source": [
    "# Membuat array 1 dimensi\n",
    "data = np.array([10, 20, 30, 40])\n",
    "print(data)\n",
    "print(\"Tipe data:\", type(data))"
   ]
  },
  {
   "cell_type": "markdown",
   "metadata": {},
   "source": [
    "## 🟩 3️⃣ Operasi Aritmatika pada Array\n",
    "\n",
    "NumPy memungkinkan operasi matematika langsung antar array tanpa perlu perulangan manual."
   ]
  },
  {
   "cell_type": "code",
   "execution_count": null,
   "metadata": {},
   "outputs": [],
   "source": [
    "a = np.array([100, 200, 300])\n",
    "b = np.array([10, 20, 30])\n",
    "\n",
    "print(\"Penjumlahan:\", a + b)\n",
    "print(\"Pengurangan:\", a - b)\n",
    "print(\"Perkalian:\", a * b)\n",
    "print(\"Pembagian:\", a / b)"
   ]
  },
  {
   "cell_type": "markdown",
   "metadata": {},
   "source": [
    "## 🟩 4️⃣ Operasi Statistik Dasar\n",
    "\n",
    "Fungsi statistik membantu kita menganalisis data, seperti menghitung **rata-rata, nilai maksimum, minimum, dan standar deviasi.**"
   ]
  },
  {
   "cell_type": "code",
   "execution_count": null,
   "metadata": {},
   "outputs": [],
   "source": [
    "data = np.array([50, 60, 70, 80, 90])\n",
    "\n",
    "print(\"Rata-rata:\", np.mean(data))\n",
    "print(\"Maksimum:\", np.max(data))\n",
    "print(\"Minimum:\", np.min(data))\n",
    "print(\"Standar deviasi:\", round(np.std(data), 2))"
   ]
  },
  {
   "cell_type": "markdown",
   "metadata": {},
   "source": [
    "## 🟩 5️⃣ Array 2 Dimensi (Matrix)\n",
    "\n",
    "NumPy mendukung **array 2D** untuk representasi matriks sangat berguna dalam simulasi radar, citra satelit, atau koordinasi drone."
   ]
  },
  {
   "cell_type": "code",
   "execution_count": null,
   "metadata": {},
   "outputs": [],
   "source": [
    "matrix = np.array([\n",
    "    [5, 10, 15],\n",
    "    [20, 25, 30],\n",
    "    [35, 40, 45]\n",
    "])\n",
    "\n",
    "print(matrix)\n",
    "print(\"Ukuran matrix:\", matrix.shape)"
   ]
  },
  {
   "cell_type": "markdown",
   "metadata": {},
   "source": [
    "## 🟩 6️⃣ Operasi Matriks (Dot Product)\n",
    "\n",
    "Digunakan untuk menghitung hasil kali dua matriks dasar dari perhitungan AI dan koordinasi posisi objek."
   ]
  },
  {
   "cell_type": "code",
   "execution_count": null,
   "metadata": {},
   "outputs": [],
   "source": [
    "A = np.array([[1, 2], [3, 4]])\n",
    "B = np.array([[5, 6], [7, 8]])\n",
    "\n",
    "hasil = np.dot(A, B)\n",
    "print(hasil)"
   ]
  },
  {
   "cell_type": "markdown",
   "metadata": {},
   "source": [
    "## 🟩 7️⃣ Membuat Data Otomatis\n",
    "\n",
    "NumPy dapat membuat data otomatis untuk keperluan simulasi atau uji model AI."
   ]
  },
  {
   "cell_type": "code",
   "execution_count": null,
   "metadata": {},
   "outputs": [],
   "source": [
    "# Range data otomatis\n",
    "jarak = np.arange(0, 100, 20)\n",
    "print(jarak)\n",
    "\n",
    "# Data acak untuk simulasi sensor radar\n",
    "sensor = np.random.randint(1, 100, size=5)\n",
    "print(\"Data sensor radar:\", sensor)"
   ]
  },
  {
   "cell_type": "markdown",
   "metadata": {},
   "source": [
    "## 🟩 8️⃣ Studi Kasus: Perhitungan Logistik Pos Operasi\n",
    "\n",
    "Simulasi penggunaan NumPy dalam menghitung kebutuhan logistik di beberapa pos TNI."
   ]
  },
  {
   "cell_type": "code",
   "execution_count": null,
   "metadata": {},
   "outputs": [],
   "source": [
    "# Jumlah prajurit dan kuota makan per prajurit\n",
    "prajurit = np.array([120, 80, 100, 60])\n",
    "makanan_per_prajurit = np.array([3, 3, 3, 3])  # paket per hari\n",
    "\n",
    "# Hitung total makanan\n",
    "total_makanan = prajurit * makanan_per_prajurit\n",
    "print(\"Total paket makanan per pos:\", total_makanan)\n",
    "print(\"Kebutuhan total harian:\", total_makanan.sum(), \"paket/hari\")"
   ]
  },
  {
   "cell_type": "markdown",
   "metadata": {},
   "source": [
    "## 🟩 9️⃣ Visualisasi Data NumPy\n",
    "\n",
    "Menggunakan Matplotlib untuk menampilkan hasil perhitungan logistik dalam bentuk grafik batang."
   ]
  },
  {
   "cell_type": "code",
   "execution_count": null,
   "metadata": {},
   "outputs": [],
   "source": [
    "import matplotlib.pyplot as plt\n",
    "\n",
    "pos = [\"Utara\", \"Timur\", \"Selatan\", \"Barat\"]\n",
    "plt.bar(pos, total_makanan, color=\"darkolivegreen\")\n",
    "plt.title(\"Kebutuhan Logistik Harian per Pos Operasi\")\n",
    "plt.xlabel(\"Pos Operasi\")\n",
    "plt.ylabel(\"Jumlah Paket Makanan\")\n",
    "plt.show()"
   ]
  },
  {
   "cell_type": "markdown",
   "metadata": {},
   "source": [
    "## 🟩 🔟 Exercise — Analisis Efisiensi Energi Kendaraan Operasional\n",
    "\n",
    "**Tugas:**\n",
    "1. Buat dua array:\n",
    "   - `energi_digunakan` (liter per kendaraan)\n",
    "   - `jumlah_kendaraan` (jumlah kendaraan di tiap pos)\n",
    "2. Hitung total energi yang digunakan tiap pos (perkalian array).\n",
    "3. Hitung total konsumsi energi seluruh pos (`sum()`).\n",
    "4. Buat grafik batang perbandingan energi antar pos.\n",
    "\n",
    "_Gunakan fungsi NumPy dan Matplotlib._"
   ]
  },
  {
   "cell_type": "code",
   "execution_count": null,
   "metadata": {},
   "outputs": [],
   "source": [
    "# 🧩 TODO: Lengkapi latihan efisiensi energi kendaraan operasional\n",
    "# Gunakan array NumPy dan tampilkan hasil dalam bentuk grafik\n",
    "\n"
   ]
  }
 ],
 "metadata": {
  "kernelspec": {
   "display_name": "Python 3 (ipykernel)",
   "language": "python",
   "name": "python3"
  },
  "language_info": {
   "codemirror_mode": {
    "name": "ipython",
    "version": 3
   },
   "file_extension": ".py",
   "mimetype": "text/x-python",
   "name": "python",
   "nbconvert_exporter": "python",
   "pygments_lexer": "ipython3",
   "version": "3.11.11"
  }
 },
 "nbformat": 4,
 "nbformat_minor": 4
}
