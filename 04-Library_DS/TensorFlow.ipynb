{
 "cells": [
  {
   "cell_type": "markdown",
   "metadata": {},
   "source": [
    "<center><a href=\"https://www.nvidia.com/dli\"> <img src=\"Pelatihan-DLI.jpeg\" alt=\"Header\" style=\"width: 1000px;\"/> </a></center>"
   ]
  },
  {
   "cell_type": "markdown",
   "metadata": {},
   "source": [
    "# Pengenalan Library Python untuk Data Science dan AI\n",
    "## TensorFlow (Deep Learning Framework)\n",
    "### Pelatihan Dasar Deep Learning untuk TNI\n",
    "\n",
    "Notebook ini memperkenalkan **TensorFlow**, library utama untuk *Deep Learning*, kecerdasan buatan tingkat lanjut yang digunakan di berbagai bidang, termasuk **pertahanan dan militer modern**.\n",
    "\n",
    "---\n",
    "## 🎯 Tujuan Pembelajaran\n",
    "- Memahami konsep dasar Deep Learning.\n",
    "- Mengenal struktur model Neural Network.\n",
    "- Menggunakan TensorFlow untuk membuat model prediksi sederhana."
   ]
  },
  {
   "cell_type": "markdown",
   "metadata": {},
   "source": [
    "## 🟩 1️⃣ Pengenalan TensorFlow\n",
    "\n",
    "### Apa itu TensorFlow?\n",
    "- **TensorFlow** adalah library open-source buatan **Google** untuk *Machine Learning* dan *Deep Learning*.\n",
    "- Dapat digunakan untuk membangun model AI seperti:\n",
    "  - Deteksi objek (UAV, kendaraan)\n",
    "  - Pengenalan wajah atau pola seragam\n",
    "  - Prediksi data logistik\n",
    "\n",
    "**TensorFlow** terdiri dari dua komponen utama:\n",
    "- `Tensor` → representasi data multidimensi (angka, citra, sinyal)\n",
    "- `Flow` → aliran data melalui lapisan-lapisan jaringan saraf."
   ]
  },
  {
   "cell_type": "code",
   "execution_count": null,
   "metadata": {},
   "outputs": [],
   "source": [
    "# Import TensorFlow\n",
    "import tensorflow as tf\n",
    "\n",
    "print(\"TensorFlow siap digunakan untuk pelatihan TNI!\")\n",
    "print(\"Versi TensorFlow:\", tf.__version__)"
   ]
  },
  {
   "cell_type": "markdown",
   "metadata": {},
   "source": [
    "## 🟩 2️⃣ Struktur Dasar Deep Learning Model\n",
    "\n",
    "Sebuah model Deep Learning umumnya memiliki 3 komponen utama:\n",
    "\n",
    "```\n",
    "Input Data → Hidden Layer(s) → Output Layer\n",
    "```\n",
    "- Input = Data dari sensor/pengamatan lapangan\n",
    "- Hidden Layer = Proses analisis intelijen (pemrosesan informasi)\n",
    "- Output = Keputusan atau prediksi operasi"
   ]
  },
  {
   "cell_type": "markdown",
   "metadata": {},
   "source": [
    "## 🟩 3️⃣ Model Prediksi Linear Sederhana\n",
    "\n",
    "Contoh pertama: model sederhana untuk mempelajari hubungan **linear** antara jumlah logistik dan prajurit.\n",
    "\n",
    "Fungsi yang dipelajari model: `y = 2x`"
   ]
  },
  {
   "cell_type": "code",
   "execution_count": null,
   "metadata": {},
   "outputs": [],
   "source": [
    "import numpy as np\n",
    "import tensorflow as tf\n",
    "\n",
    "# Data simulasi\n",
    "x = np.array([1, 2, 3, 4, 5])\n",
    "y = np.array([2, 4, 6, 8, 10])  # hubungan linear y = 2x\n",
    "\n",
    "# Model Sequential dengan 1 neuron\n",
    "model = tf.keras.Sequential([\n",
    "    tf.keras.layers.Dense(units=1, input_shape=[1])\n",
    "])\n",
    "\n",
    "# Kompilasi model\n",
    "model.compile(optimizer='sgd', loss='mean_squared_error')\n",
    "\n",
    "# Latih model\n",
    "history = model.fit(x, y, epochs=100, verbose=0)\n",
    "\n",
    "# Prediksi — pakai array 2D\n",
    "pred = model.predict(np.array([[6]]))\n",
    "print(\"Prediksi logistik untuk x=6:\", round(pred[0][0], 2))"
   ]
  },
  {
   "cell_type": "markdown",
   "metadata": {},
   "source": [
    "### Visualisasi Proses Pelatihan"
   ]
  },
  {
   "cell_type": "code",
   "execution_count": null,
   "metadata": {},
   "outputs": [],
   "source": [
    "import matplotlib.pyplot as plt\n",
    "\n",
    "plt.plot(history.history['loss'])\n",
    "plt.title('Perkembangan Loss Model (Semakin Kecil Semakin Baik)')\n",
    "plt.xlabel('Epoch')\n",
    "plt.ylabel('Loss')\n",
    "plt.show()"
   ]
  },
  {
   "cell_type": "markdown",
   "metadata": {},
   "source": [
    "## 🟩 4️⃣ Model Klasifikasi Kesiapan Logistik\n",
    "\n",
    "Gunakan **sigmoid activation** untuk membedakan antara dua kondisi:\n",
    "- 1 → *Siap*\n",
    "- 0 → *Tidak Siap*"
   ]
  },
  {
   "cell_type": "code",
   "execution_count": null,
   "metadata": {},
   "outputs": [],
   "source": [
    "# Data simulasi logistik\n",
    "data = np.array([[80], [60], [40], [20], [10]])  # stok logistik\n",
    "label = np.array([[1], [1], [0], [0], [0]])      # 1=Siap, 0=Tidak Siap\n",
    "\n",
    "model2 = tf.keras.Sequential([\n",
    "    tf.keras.layers.Dense(1, activation='sigmoid', input_shape=[1])\n",
    "])\n",
    "\n",
    "model2.compile(optimizer='adam', loss='binary_crossentropy', metrics=['accuracy'])\n",
    "model2.fit(data, label, epochs=200, verbose=0)\n",
    "\n",
    "pred = model2.predict(np.array([[50]]))\n",
    "print(\"Prediksi kesiapan logistik (stok=50):\", round(pred[0][0], 2))"
   ]
  },
  {
   "cell_type": "markdown",
   "metadata": {},
   "source": [
    "### Visualisasi Probabilitas Kesiapan"
   ]
  },
  {
   "cell_type": "code",
   "execution_count": null,
   "metadata": {},
   "outputs": [],
   "source": [
    "x_values = np.linspace(0, 100, 50).reshape(-1, 1)\n",
    "predictions = model2.predict(x_values)\n",
    "\n",
    "plt.plot(x_values, predictions, color='olive')\n",
    "plt.title('Prediksi Probabilitas Kesiapan Logistik')\n",
    "plt.xlabel('Stok Logistik (%)')\n",
    "plt.ylabel('Probabilitas Siap')\n",
    "plt.grid(True)\n",
    "plt.show()"
   ]
  },
  {
   "cell_type": "markdown",
   "metadata": {},
   "source": [
    "## 🟩 5️⃣ Artificial Neural Network (ANN)\n",
    "\n",
    "Model multilayer (berlapis) memungkinkan jaringan mempelajari hubungan kompleks.\n",
    "\n",
    "**Struktur:**\n",
    "- Input layer: menerima data (contoh: jumlah prajurit & ancaman)\n",
    "- Hidden layer: kombinasi non-linear (ReLU)\n",
    "- Output layer: hasil (0/1 atau nilai prediksi)"
   ]
  },
  {
   "cell_type": "code",
   "execution_count": null,
   "metadata": {},
   "outputs": [],
   "source": [
    "model3 = tf.keras.Sequential([\n",
    "    tf.keras.layers.Dense(8, activation='relu', input_shape=[2]),\n",
    "    tf.keras.layers.Dense(4, activation='relu'),\n",
    "    tf.keras.layers.Dense(1, activation='sigmoid')\n",
    "])\n",
    "\n",
    "model3.summary()"
   ]
  },
  {
   "cell_type": "markdown",
   "metadata": {},
   "source": [
    "## 🟩 6️⃣ Studi Kasus: Prediksi Risiko Misi Operasi\n",
    "\n",
    "**Tujuan:** Prediksi apakah misi berisiko tinggi atau rendah berdasarkan tingkat ancaman dan ketersediaan logistik."
   ]
  },
  {
   "cell_type": "code",
   "execution_count": null,
   "metadata": {},
   "outputs": [],
   "source": [
    "X = np.array([[0.2, 0.8], [0.4, 0.6], [0.7, 0.3], [0.9, 0.2]])\n",
    "Y = np.array([[0], [0], [1], [1]])  # 1=Risiko Tinggi\n",
    "\n",
    "model4 = tf.keras.Sequential([\n",
    "    tf.keras.layers.Dense(4, activation='relu', input_shape=[2]),\n",
    "    tf.keras.layers.Dense(1, activation='sigmoid')\n",
    "])\n",
    "\n",
    "model4.compile(optimizer='adam', loss='binary_crossentropy', metrics=['accuracy'])\n",
    "model4.fit(X, Y, epochs=300, verbose=0)\n",
    "\n",
    "pred = model4.predict(np.array([[0.6, 0.4]]))\n",
    "print(\"Prediksi risiko misi:\", 'Tinggi' if pred[0][0]>0.5 else 'Rendah')"
   ]
  },
  {
   "cell_type": "markdown",
   "metadata": {},
   "source": [
    "## 🟩 7️⃣ Exercise — Prediksi Kesiapan Operasi TNI\n",
    "\n",
    "**Tugas:**\n",
    "1. Buat data simulasi berisi 3 fitur: `jumlah_prajurit`, `logistik`, `ancaman`.\n",
    "2. Label: 1 = Siap, 0 = Tidak Siap.\n",
    "3. Buat model *Sequential* dengan 2 layer tersembunyi.\n",
    "4. Latih model dan tampilkan akurasi.\n",
    "5. Visualisasikan hasil pelatihan (*loss dan accuracy*)."
   ]
  },
  {
   "cell_type": "code",
   "execution_count": null,
   "metadata": {},
   "outputs": [],
   "source": [
    "# 🧩 TODO: Lengkapi latihan ini untuk membangun model kesiapan operasi TNI\n",
    "# Gunakan TensorFlow Sequential dengan Dense layers\n",
    "# Gunakan fitur [prajurit, logistik, ancaman] dan label kesiapan\n",
    "\n"
   ]
  }
 ],
 "metadata": {
  "kernelspec": {
   "display_name": "Python 3 (ipykernel)",
   "language": "python",
   "name": "python3"
  },
  "language_info": {
   "codemirror_mode": {
    "name": "ipython",
    "version": 3
   },
   "file_extension": ".py",
   "mimetype": "text/x-python",
   "name": "python",
   "nbconvert_exporter": "python",
   "pygments_lexer": "ipython3",
   "version": "3.11.11"
  }
 },
 "nbformat": 4,
 "nbformat_minor": 4
}
