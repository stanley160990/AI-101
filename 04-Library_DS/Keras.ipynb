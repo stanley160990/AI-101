{
 "cells": [
  {
   "cell_type": "markdown",
   "metadata": {},
   "source": [
    "<center><a href=\"https://www.nvidia.com/dli\"> <img src=\"Pelatihan-DLI.jpeg\" alt=\"Header\" style=\"width: 1000px;\"/> </a></center>"
   ]
  },
  {
   "cell_type": "markdown",
   "metadata": {},
   "source": [
    "# Pengenalan Library Python untuk Data Science dan AI\n",
    "## Keras (Deep Learning Framework)\n",
    "### Pelatihan Deep Learning untuk TNI\n",
    "\n",
    "Notebook ini memperkenalkan **Keras**, library *high-level API* untuk **Deep Learning** di Python.\n",
    "Keras digunakan di atas **TensorFlow**, membuat proses pembuatan model AI menjadi cepat dan mudah.\n",
    "\n",
    "---\n",
    "## 🎯 Tujuan Pembelajaran\n",
    "- Mengenal konsep dasar Keras dan hubungannya dengan TensorFlow.\n",
    "- Mempelajari komponen model: layer, neuron, epoch, dan loss.\n",
    "- Membuat model regresi dan klasifikasi sederhana dengan Keras.\n",
    "- Menghubungkan Keras dengan konteks militer (prediksi, klasifikasi risiko)."
   ]
  },
  {
   "cell_type": "markdown",
   "metadata": {},
   "source": [
    "## 🟩 1️⃣ Apa itu Keras?\n",
    "\n",
    "**Keras** adalah antarmuka (*API*) tingkat tinggi untuk *Deep Learning* yang memudahkan pembuatan model AI.\n",
    "\n",
    "Keras memungkinkan kita membuat dan melatih jaringan saraf tiruan dengan beberapa baris kode saja."
   ]
  },
  {
   "cell_type": "code",
   "execution_count": null,
   "metadata": {},
   "outputs": [],
   "source": [
    "# Import TensorFlow dan Keras\n",
    "import tensorflow as tf\n",
    "from tensorflow import keras\n",
    "\n",
    "print(\"TensorFlow version:\", tf.__version__)\n",
    "print(\"Keras version:\", keras.__version__)"
   ]
  },
  {
   "cell_type": "markdown",
   "metadata": {},
   "source": [
    "## 🟩 2️⃣ Struktur Model Keras\n",
    "\n",
    "**Keras Sequential Model:**\n",
    "```\n",
    "Input Layer → Hidden Layers → Output Layer\n",
    "```\n",
    "\n",
    "**Komponen utama:**\n",
    "- `Dense` → Layer fully connected.\n",
    "- `Activation` → Fungsi yang mengubah nilai (ReLU, Sigmoid, Softmax).\n",
    "- `Optimizer` → Algoritma untuk memperbaiki bobot.\n",
    "- `Loss` → Mengukur kesalahan model.\n",
    "- `Epoch` → Jumlah iterasi pelatihan."
   ]
  },
  {
   "cell_type": "markdown",
   "metadata": {},
   "source": [
    "## 🟩 3️⃣ Model Regresi Linear Sederhana\n",
    "\n",
    "Model ini belajar hubungan antara jumlah prajurit dan kebutuhan logistik (y = 2x)."
   ]
  },
  {
   "cell_type": "code",
   "execution_count": null,
   "metadata": {},
   "outputs": [],
   "source": [
    "from tensorflow.keras import layers\n",
    "import numpy as np\n",
    "\n",
    "# Data simulasi\n",
    "x = np.array([1, 2, 3, 4, 5])\n",
    "y = np.array([2, 4, 6, 8, 10])\n",
    "\n",
    "# Model Sequential\n",
    "model = keras.Sequential([\n",
    "    layers.Dense(1, input_shape=[1])\n",
    "])\n",
    "\n",
    "# Kompilasi model\n",
    "model.compile(optimizer='sgd', loss='mean_squared_error')\n",
    "\n",
    "# Latih model\n",
    "history = model.fit(x, y, epochs=100, verbose=0)\n",
    "\n",
    "# Prediksi\n",
    "print(\"Prediksi untuk x=6:\", model.predict(np.array([6])))"
   ]
  },
  {
   "cell_type": "markdown",
   "metadata": {},
   "source": [
    "### Visualisasi Loss Training"
   ]
  },
  {
   "cell_type": "code",
   "execution_count": null,
   "metadata": {},
   "outputs": [],
   "source": [
    "import matplotlib.pyplot as plt\n",
    "\n",
    "plt.plot(history.history['loss'])\n",
    "plt.title('Perkembangan Loss Model')\n",
    "plt.xlabel('Epoch')\n",
    "plt.ylabel('Loss')\n",
    "plt.grid(True)\n",
    "plt.show()"
   ]
  },
  {
   "cell_type": "markdown",
   "metadata": {},
   "source": [
    "## 🟩 4️⃣ Klasifikasi Sederhana — Kesiapan Operasi\n",
    "\n",
    "Model ini mengklasifikasikan status *Siap* (1) atau *Tidak Siap* (0) berdasarkan stok logistik."
   ]
  },
  {
   "cell_type": "code",
   "execution_count": null,
   "metadata": {},
   "outputs": [],
   "source": [
    "from tensorflow.keras.models import Sequential\n",
    "from tensorflow.keras.layers import Dense\n",
    "\n",
    "data = np.array([[80], [60], [40], [20], [10]])  # stok logistik\n",
    "label = np.array([[1], [1], [0], [0], [0]])      # 1=Siap, 0=Tidak Siap\n",
    "\n",
    "model2 = Sequential([\n",
    "    Dense(4, activation='relu', input_shape=[1]),\n",
    "    Dense(1, activation='sigmoid')\n",
    "])\n",
    "\n",
    "model2.compile(optimizer='adam', loss='binary_crossentropy', metrics=['accuracy'])\n",
    "model2.fit(data, label, epochs=200, verbose=0)\n",
    "\n",
    "pred = model2.predict(np.array([[50]]))\n",
    "print(\"Prediksi kesiapan logistik (stok=50):\", round(pred[0][0], 2))"
   ]
  },
  {
   "cell_type": "markdown",
   "metadata": {},
   "source": [
    "### Visualisasi Probabilitas Kesiapan"
   ]
  },
  {
   "cell_type": "code",
   "execution_count": null,
   "metadata": {},
   "outputs": [],
   "source": [
    "x_values = np.linspace(0, 100, 50).reshape(-1, 1)\n",
    "predictions = model2.predict(x_values)\n",
    "\n",
    "plt.plot(x_values, predictions, color='green')\n",
    "plt.title('Prediksi Probabilitas Kesiapan Logistik')\n",
    "plt.xlabel('Stok Logistik (%)')\n",
    "plt.ylabel('Probabilitas Siap')\n",
    "plt.grid(True)\n",
    "plt.show()"
   ]
  },
  {
   "cell_type": "markdown",
   "metadata": {},
   "source": [
    "## 🟩 5️⃣ Artificial Neural Network (ANN)\n",
    "\n",
    "Model multilayer digunakan untuk menganalisis hubungan kompleks seperti kombinasi prajurit dan ancaman terhadap kesiapan misi."
   ]
  },
  {
   "cell_type": "code",
   "execution_count": null,
   "metadata": {},
   "outputs": [],
   "source": [
    "model3 = Sequential([\n",
    "    Dense(8, activation='relu', input_shape=[2]),\n",
    "    Dense(4, activation='relu'),\n",
    "    Dense(1, activation='sigmoid')\n",
    "])\n",
    "\n",
    "model3.summary()"
   ]
  },
  {
   "cell_type": "markdown",
   "metadata": {},
   "source": [
    "## 🟩 6️⃣ Studi Kasus: Prediksi Risiko Misi\n",
    "\n",
    "Simulasi: prediksi apakah misi berisiko *Tinggi* atau *Rendah* berdasarkan **tingkat ancaman** dan **logistik**."
   ]
  },
  {
   "cell_type": "code",
   "execution_count": null,
   "metadata": {},
   "outputs": [],
   "source": [
    "X = np.array([[0.2, 0.8], [0.4, 0.6], [0.7, 0.3], [0.9, 0.2]])\n",
    "Y = np.array([[0], [0], [1], [1]])  # 1=Risiko Tinggi\n",
    "\n",
    "model4 = Sequential([\n",
    "    Dense(4, activation='relu', input_shape=[2]),\n",
    "    Dense(1, activation='sigmoid')\n",
    "])\n",
    "\n",
    "model4.compile(optimizer='adam', loss='binary_crossentropy', metrics=['accuracy'])\n",
    "model4.fit(X, Y, epochs=300, verbose=0)\n",
    "\n",
    "pred = model4.predict(np.array([[0.6, 0.4]]))\n",
    "print(\"Prediksi risiko misi:\", 'Tinggi' if pred[0][0] > 0.5 else 'Rendah')"
   ]
  },
  {
   "cell_type": "markdown",
   "metadata": {},
   "source": [
    "## 🟩 7️⃣ Menyimpan dan Memuat Model"
   ]
  },
  {
   "cell_type": "code",
   "execution_count": null,
   "metadata": {},
   "outputs": [],
   "source": [
    "# Menyimpan model\n",
    "model4.save(\"model_risiko_misi.h5\")\n",
    "\n",
    "# Memuat kembali model\n",
    "new_model = keras.models.load_model(\"model_risiko_misi.h5\")\n",
    "print(\"Model berhasil dimuat ulang!\")"
   ]
  },
  {
   "cell_type": "markdown",
   "metadata": {},
   "source": [
    "## 🟩 8️⃣ Exercise — Prediksi Kesiapan Unit Operasi\n",
    "\n",
    "**Tugas:**\n",
    "1. Buat dataset berisi 3 fitur: `jumlah_prajurit`, `logistik`, `ancaman`.\n",
    "2. Buat model *Sequential* dengan dua layer tersembunyi.\n",
    "3. Gunakan fungsi aktivasi `relu` dan `sigmoid`.\n",
    "4. Latih model untuk memprediksi kesiapan (1=Siap, 0=Tidak Siap).\n",
    "5. Tampilkan hasil akurasi dan plot grafik loss selama training."
   ]
  },
  {
   "cell_type": "code",
   "execution_count": null,
   "metadata": {},
   "outputs": [],
   "source": [
    "# 🧩 TODO: Latihan Keras untuk prediksi kesiapan unit operasi\n",
    "# Gunakan Sequential, Dense, compile, fit, dan evaluasi hasilnya\n",
    "\n"
   ]
  }
 ],
 "metadata": {
  "kernelspec": {
   "display_name": "Python 3 (ipykernel)",
   "language": "python",
   "name": "python3"
  },
  "language_info": {
   "codemirror_mode": {
    "name": "ipython",
    "version": 3
   },
   "file_extension": ".py",
   "mimetype": "text/x-python",
   "name": "python",
   "nbconvert_exporter": "python",
   "pygments_lexer": "ipython3",
   "version": "3.11.11"
  }
 },
 "nbformat": 4,
 "nbformat_minor": 4
}
