{
 "cells": [
  {
   "cell_type": "markdown",
   "metadata": {},
   "source": [
    "<center><a href=\"https://www.nvidia.com/dli\"> <img src=\"Pelatihan-DLI.jpeg\" alt=\"Header\" style=\"width: 1000px;\"/> </a></center>"
   ]
  },
  {
   "cell_type": "markdown",
   "metadata": {},
   "source": [
    "# Pengenalan Library Python untuk Data Science dan AI\n",
    "### Pelatihan Dasar Data Science untuk TNI\n",
    "\n",
    "Notebook ini memperkenalkan **library Python** yang digunakan dalam bidang **Data Science** dan **Artificial Intelligence (AI)**.  \n",
    "Anda akan berlatih menggunakan **library Pandas** untuk menganalisis data operasional sederhana seperti *logistik, personel, dan pos pengawasan*.\n",
    "\n",
    "---\n",
    "## 🎯 Tujuan Pembelajaran\n",
    "- Mengenal konsep library Python.\n",
    "- Memahami peran Pandas dalam pengolahan data.\n",
    "- Mengimpor, menampilkan, dan menganalisis data menggunakan Pandas."
   ]
  },
  {
   "cell_type": "markdown",
   "metadata": {},
   "source": [
    "## 🟩 1️⃣ Apa itu Library Python?\n",
    "\n",
    "**Library** adalah kumpulan kode siap pakai (*modul dan fungsi*) yang dapat digunakan untuk mempercepat proses pemrograman.\n",
    "\n",
    "**Analogi militer:**  \n",
    "> Library seperti gudang perlengkapan tempur — kita tidak perlu membuat senjata dari awal, tinggal ambil dan gunakan modul sesuai kebutuhan.\n",
    "\n",
    "### Contoh Library Populer di Data Science\n",
    "| Kategori | Library | Fungsi |\n",
    "|-----------|----------|--------|\n",
    "| Manipulasi Data | **Pandas**, NumPy | Pengolahan dan analisis data |\n",
    "| Visualisasi | Matplotlib, Seaborn | Membuat grafik dan dashboard |\n",
    "| Machine Learning | Scikit-learn | Algoritma pembelajaran mesin |\n",
    "| Deep Learning | TensorFlow, PyTorch | Neural Network dan AI Cerdas |\n",
    "| Geospasial | GeoPandas, Folium | Analisis peta & lokasi operasi |\n"
   ]
  },
  {
   "cell_type": "markdown",
   "metadata": {},
   "source": [
    "## 🟩 2️⃣ Pengenalan Pandas Library\n",
    "\n",
    "**Pandas (Python Data Analysis Library)** adalah salah satu library paling penting untuk analisis data.  \n",
    "\n",
    "### Kegunaan Pandas:\n",
    "- Membaca data dari file (CSV, Excel, SQL, JSON, dsb.)\n",
    "- Menyimpan dan mengelola data dalam bentuk **DataFrame** (tabel seperti Excel)\n",
    "- Membersihkan dan memfilter data\n",
    "- Melakukan operasi matematika/statistik sederhana\n",
    "- Menyiapkan data untuk *Machine Learning*\n",
    "\n",
    "### Struktur Data Pandas:\n",
    "- **Series** → data 1 dimensi (seperti kolom tunggal)\n",
    "- **DataFrame** → data 2 dimensi (baris dan kolom, seperti tabel Excel)"
   ]
  },
  {
   "cell_type": "code",
   "execution_count": null,
   "metadata": {},
   "outputs": [],
   "source": [
    "# Import library Pandas\n",
    "import pandas as pd\n",
    "\n",
    "print(\"Pandas siap digunakan untuk analisis data!\")"
   ]
  },
  {
   "cell_type": "markdown",
   "metadata": {},
   "source": [
    "## 🟩 3️⃣ Membuat DataFrame Sederhana\n",
    "\n",
    "Kita akan membuat **DataFrame** yang berisi data *simulasi pos pengawasan TNI* lengkap dengan jumlah prajurit dan logistik di setiap pos."
   ]
  },
  {
   "cell_type": "code",
   "execution_count": null,
   "metadata": {},
   "outputs": [],
   "source": [
    "# Membuat DataFrame manual\n",
    "data = {\n",
    "    'Pos': ['Utara', 'Timur', 'Selatan', 'Barat'],\n",
    "    'Prajurit': [120, 80, 100, 60],\n",
    "    'Logistik': [50, 70, 65, 40]\n",
    "}\n",
    "\n",
    "df = pd.DataFrame(data)\n",
    "df"
   ]
  },
  {
   "cell_type": "code",
   "execution_count": null,
   "metadata": {},
   "outputs": [],
   "source": [
    "# Menyimpan data ke CSV\n"
   ]
  },
  {
   "cell_type": "markdown",
   "metadata": {},
   "source": [
    "## 🟩 4️⃣ Membaca Data dari File CSV\n",
    "\n",
    "Jika data disimpan dalam file seperti `data_logistik.csv`, kita bisa langsung membacanya menggunakan fungsi `pd.read_csv()`."
   ]
  },
  {
   "cell_type": "code",
   "execution_count": null,
   "metadata": {},
   "outputs": [],
   "source": [
    "# Membaca Data dari file CSV\n"
   ]
  },
  {
   "cell_type": "markdown",
   "metadata": {},
   "source": [
    "## 🟩 5️⃣ Akses Data pada DataFrame\n",
    "\n",
    "Kita dapat mengakses kolom, baris, atau elemen tertentu dari DataFrame menggunakan nama kolom atau indeks."
   ]
  },
  {
   "cell_type": "code",
   "execution_count": null,
   "metadata": {},
   "outputs": [],
   "source": [
    "# Mengakses kolom\n",
    "print(df['Prajurit'])\n",
    "\n",
    "# Mengakses baris pertama (indeks 0)\n",
    "print(\"\\nData baris pertama:\")\n",
    "print(df.iloc[0])\n",
    "\n",
    "# Mengakses nilai spesifik\n",
    "print(\"\\nJumlah prajurit di pos Timur:\", df['Prajurit'][1])"
   ]
  },
  {
   "cell_type": "markdown",
   "metadata": {},
   "source": [
    "## 🟩 6️⃣ Operasi Dasar di Pandas\n",
    "\n",
    "Beberapa operasi umum yang sering digunakan:\n",
    "- Menjumlahkan kolom angka (`sum()`)\n",
    "- Menghitung rata-rata (`mean()`)\n",
    "- Menemukan nilai maksimum/minimum (`max()`, `min()`)"
   ]
  },
  {
   "cell_type": "code",
   "execution_count": null,
   "metadata": {},
   "outputs": [],
   "source": [
    "total_prajurit = df['Prajurit'].sum()\n",
    "rata_logistik = df['Logistik'].mean()\n",
    "\n",
    "print(\"Total seluruh prajurit:\", total_prajurit)\n",
    "print(\"Rata-rata logistik per pos:\", round(rata_logistik, 2))"
   ]
  },
  {
   "cell_type": "markdown",
   "metadata": {},
   "source": [
    "## 🟩 7️⃣ Filtering Data dengan Kondisi\n",
    "\n",
    "Kita dapat memfilter data berdasarkan kondisi tertentu.\n",
    "\n",
    "**Contoh:** Menampilkan hanya pos dengan logistik di bawah 50 unit."
   ]
  },
  {
   "cell_type": "code",
   "execution_count": null,
   "metadata": {},
   "outputs": [],
   "source": [
    "df_kurang = df[df['Logistik'] < 50]\n",
    "df_kurang"
   ]
  },
  {
   "cell_type": "markdown",
   "metadata": {},
   "source": [
    "## 🟩 8️⃣ Menambah Kolom Baru\n",
    "\n",
    "Misalnya kita ingin menghitung total amunisi berdasarkan jumlah prajurit (setiap prajurit membawa 30 butir amunisi)."
   ]
  },
  {
   "cell_type": "code",
   "execution_count": null,
   "metadata": {},
   "outputs": [],
   "source": [
    "df['TotalAmunisi'] = df['Prajurit'] * 30\n",
    "df"
   ]
  },
  {
   "cell_type": "markdown",
   "metadata": {},
   "source": [
    "## 🟩 9️⃣ Visualisasi Data dengan Pandas + Matplotlib\n",
    "\n",
    "Kita bisa membuat grafik dengan mudah menggunakan Pandas yang terintegrasi dengan Matplotlib."
   ]
  },
  {
   "cell_type": "code",
   "execution_count": null,
   "metadata": {},
   "outputs": [],
   "source": [
    "import matplotlib.pyplot as plt\n",
    "\n",
    "df.plot(x='Pos', y='Prajurit', kind='bar', color='green')\n",
    "plt.title('Distribusi Prajurit per Pos Operasi')\n",
    "plt.ylabel('Jumlah Prajurit')\n",
    "plt.show()"
   ]
  },
  {
   "cell_type": "markdown",
   "metadata": {},
   "source": [
    "## 🟩 🔟 Exercise — Analisis Logistik TNI\n",
    "\n",
    "**Tugas Anda:**\n",
    "1. Tambahkan kolom baru `StatusLogistik`.\n",
    "   - Jika logistik < 50 → `Kekurangan`\n",
    "   - Jika ≥ 50 → `Aman`\n",
    "2. Tampilkan ringkasan laporan akhir dalam bentuk tabel.\n",
    "3. Buat grafik batang untuk membandingkan jumlah logistik antar pos.\n",
    "\n",
    "_Petunjuk: Gunakan `apply()` atau kondisi Pandas._"
   ]
  },
  {
   "cell_type": "code",
   "execution_count": null,
   "metadata": {},
   "outputs": [],
   "source": [
    "# 🧩 TODO: Lengkapi latihan ini\n",
    "# Tambahkan kolom StatusLogistik dan buat grafik bar logistik per pos\n",
    "\n"
   ]
  }
 ],
 "metadata": {
  "kernelspec": {
   "display_name": "Python 3 (ipykernel)",
   "language": "python",
   "name": "python3"
  },
  "language_info": {
   "codemirror_mode": {
    "name": "ipython",
    "version": 3
   },
   "file_extension": ".py",
   "mimetype": "text/x-python",
   "name": "python",
   "nbconvert_exporter": "python",
   "pygments_lexer": "ipython3",
   "version": "3.11.11"
  }
 },
 "nbformat": 4,
 "nbformat_minor": 4
}
