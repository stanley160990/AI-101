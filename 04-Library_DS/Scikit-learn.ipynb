{
 "cells": [
  {
   "cell_type": "markdown",
   "metadata": {},
   "source": [
    "<center><a href=\"https://www.nvidia.com/dli\"> <img src=\"Pelatihan-DLI.jpeg\" alt=\"Header\" style=\"width: 1000px;\"/> </a></center>"
   ]
  },
  {
   "cell_type": "markdown",
   "metadata": {},
   "source": [
    "# Pengenalan Library Python untuk Data Science dan AI\n",
    "## Scikit-learn (Machine Learning)\n",
    "### Pelatihan Dasar Machine Learning untuk TNI\n",
    "\n",
    "Notebook ini memperkenalkan **Scikit-learn (sklearn)**, library utama Python untuk *Machine Learning* klasik seperti regresi, klasifikasi, dan klasterisasi.\n",
    "\n",
    "Kita akan belajar menggunakan Scikit-learn untuk membuat model yang dapat **menganalisis data, memprediksi hasil, dan mengelompokkan informasi operasional TNI.**\n",
    "\n",
    "---\n",
    "## 🎯 Tujuan Pembelajaran\n",
    "- Memahami konsep dasar Machine Learning.\n",
    "- Mengenal struktur kerja Scikit-learn.\n",
    "- Membangun model ML sederhana (Regresi, Klasifikasi, Klasterisasi).\n",
    "- Mengaplikasikan ML dalam konteks operasional/logistik TNI."
   ]
  },
  {
   "cell_type": "markdown",
   "metadata": {},
   "source": [
    "## 🟩 1️⃣ Pengenalan Machine Learning dan Scikit-learn\n",
    "\n",
    "### Apa itu Machine Learning?\n",
    "- *Machine Learning (ML)* adalah kemampuan komputer untuk **belajar dari data** dan membuat prediksi tanpa diprogram secara eksplisit.\n",
    "\n",
    "### Apa itu Scikit-learn?\n",
    "- Scikit-learn adalah library Python untuk **analisis data dan machine learning klasik**.\n",
    "- Mudah digunakan, cepat, dan berbasis pada **NumPy**, **Pandas**, dan **Matplotlib**."
   ]
  },
  {
   "cell_type": "code",
   "execution_count": null,
   "metadata": {},
   "outputs": [],
   "source": [
    "# Import library dasar\n",
    "import numpy as np\n",
    "import pandas as pd\n",
    "import matplotlib.pyplot as plt\n",
    "\n",
    "# Import modul Scikit-learn\n",
    "from sklearn.model_selection import train_test_split\n",
    "from sklearn.linear_model import LinearRegression\n",
    "from sklearn.tree import DecisionTreeClassifier\n",
    "from sklearn.cluster import KMeans\n",
    "\n",
    "print(\"Scikit-learn siap digunakan untuk analisis data TNI!\")"
   ]
  },
  {
   "cell_type": "markdown",
   "metadata": {},
   "source": [
    "## 🟩 2️⃣ Workflow Machine Learning di Scikit-learn\n",
    "\n",
    "Langkah umum dalam proyek Machine Learning menggunakan Scikit-learn:\n",
    "1. **Persiapkan data (dataset)**\n",
    "2. **Pisahkan data** menjadi fitur (X) dan target (y)\n",
    "3. **Split data** menjadi train/test\n",
    "4. **Pilih model** yang sesuai (regresi, klasifikasi, klasterisasi)\n",
    "5. **Latih model (fit)** menggunakan data training\n",
    "6. **Prediksi (predict)** dengan data baru\n",
    "7. **Evaluasi hasil**"
   ]
  },
  {
   "cell_type": "markdown",
   "metadata": {},
   "source": [
    "## 🟩 3️⃣ REGRESI — Prediksi Jumlah Logistik Berdasarkan Prajurit\n",
    "\n",
    "Kita akan membuat model **Linear Regression** untuk memprediksi jumlah logistik yang dibutuhkan berdasarkan jumlah prajurit."
   ]
  },
  {
   "cell_type": "code",
   "execution_count": null,
   "metadata": {},
   "outputs": [],
   "source": [
    "from sklearn.linear_model import LinearRegression\n",
    "\n",
    "# Data simulasi\n",
    "prajurit = np.array([50, 80, 100, 150, 200]).reshape(-1, 1)\n",
    "logistik = np.array([100, 160, 190, 300, 380])\n",
    "\n",
    "# Membuat dan melatih model\n",
    "model = LinearRegression()\n",
    "model.fit(prajurit, logistik)\n",
    "\n",
    "# Prediksi untuk 120 prajurit\n",
    "prediksi = model.predict([[120]])\n",
    "print(\"Prediksi logistik untuk 120 prajurit:\", round(prediksi[0], 2))"
   ]
  },
  {
   "cell_type": "markdown",
   "metadata": {},
   "source": [
    "### 📈 Visualisasi Regresi Linear"
   ]
  },
  {
   "cell_type": "code",
   "execution_count": null,
   "metadata": {},
   "outputs": [],
   "source": [
    "plt.scatter(prajurit, logistik, color='olive', label='Data Aktual')\n",
    "plt.plot(prajurit, model.predict(prajurit), color='red', label='Model Prediksi')\n",
    "plt.xlabel('Jumlah Prajurit')\n",
    "plt.ylabel('Jumlah Logistik')\n",
    "plt.title('Prediksi Kebutuhan Logistik Berdasarkan Jumlah Prajurit')\n",
    "plt.legend()\n",
    "plt.show()"
   ]
  },
  {
   "cell_type": "markdown",
   "metadata": {},
   "source": [
    "## 🟩 4️⃣ KLASIFIKASI — Menentukan Status Siaga\n",
    "\n",
    "Kita akan menggunakan **Decision Tree Classifier** untuk menentukan status siaga berdasarkan tingkat ancaman dan ketersediaan logistik."
   ]
  },
  {
   "cell_type": "code",
   "execution_count": null,
   "metadata": {},
   "outputs": [],
   "source": [
    "from sklearn.tree import DecisionTreeClassifier\n",
    "\n",
    "# Dataset sederhana: [tingkat ancaman, logistik]\n",
    "X = [[5, 30], [2, 80], [4, 50], [1, 100]]\n",
    "y = [\"SIAGA 1\", \"NORMAL\", \"SIAGA 2\", \"NORMAL\"]\n",
    "\n",
    "clf = DecisionTreeClassifier()\n",
    "clf.fit(X, y)\n",
    "\n",
    "# Prediksi kondisi baru\n",
    "prediksi = clf.predict([[3, 60]])\n",
    "print(\"Prediksi status siaga:\", prediksi[0])"
   ]
  },
  {
   "cell_type": "markdown",
   "metadata": {},
   "source": [
    "### Visualisasi Pohon Keputusan"
   ]
  },
  {
   "cell_type": "code",
   "execution_count": null,
   "metadata": {},
   "outputs": [],
   "source": [
    "from sklearn import tree\n",
    "\n",
    "plt.figure(figsize=(6,4))\n",
    "tree.plot_tree(clf, filled=True, feature_names=[\"Ancaman\", \"Logistik\"])\n",
    "plt.show()"
   ]
  },
  {
   "cell_type": "markdown",
   "metadata": {},
   "source": [
    "## 🟩 5️⃣ KLASTERISASI — Pengelompokan Pos Operasi (K-Means)\n",
    "\n",
    "Gunakan **K-Means Clustering** untuk mengelompokkan pos berdasarkan jumlah prajurit dan logistik."
   ]
  },
  {
   "cell_type": "code",
   "execution_count": null,
   "metadata": {},
   "outputs": [],
   "source": [
    "from sklearn.cluster import KMeans\n",
    "\n",
    "data = np.array([\n",
    "    [120, 50], [80, 70], [100, 65], [60, 40], [130, 75]\n",
    "])\n",
    "\n",
    "kmeans = KMeans(n_clusters=2, random_state=0)\n",
    "kmeans.fit(data)\n",
    "\n",
    "print(\"Label cluster tiap pos:\", kmeans.labels_)\n",
    "print(\"Pusat cluster:\\n\", kmeans.cluster_centers_)"
   ]
  },
  {
   "cell_type": "markdown",
   "metadata": {},
   "source": [
    "### Visualisasi Klasterisasi"
   ]
  },
  {
   "cell_type": "code",
   "execution_count": null,
   "metadata": {},
   "outputs": [],
   "source": [
    "plt.scatter(data[:,0], data[:,1], c=kmeans.labels_, cmap='Dark2')\n",
    "plt.scatter(kmeans.cluster_centers_[:,0], kmeans.cluster_centers_[:,1],\n",
    "            marker='X', color='red', s=200, label='Pusat Cluster')\n",
    "plt.xlabel('Jumlah Prajurit')\n",
    "plt.ylabel('Jumlah Logistik')\n",
    "plt.title('Klasterisasi Pos Berdasarkan Jumlah Prajurit & Logistik')\n",
    "plt.legend()\n",
    "plt.show()"
   ]
  },
  {
   "cell_type": "markdown",
   "metadata": {},
   "source": [
    "## 🟩 6️⃣ Exercise — Prediksi Kesiapan Unit Operasi\n",
    "\n",
    "**Tugas:**\n",
    "1. Gunakan `DecisionTreeClassifier` untuk menentukan apakah unit **SIAP** atau **TIDAK SIAP** berdasarkan:\n",
    "   - `jumlah_prajurit`\n",
    "   - `logistik`\n",
    "   - `tingkat_ancaman`\n",
    "2. Buat minimal 6 data pelatihan.\n",
    "3. Uji dengan 2 data baru.\n",
    "4. Visualisasikan hasil pohon keputusan."
   ]
  },
  {
   "cell_type": "code",
   "execution_count": null,
   "metadata": {},
   "outputs": [],
   "source": [
    "# 🧩 TODO: Lengkapi latihan prediksi kesiapan unit operasi\n",
    "# Gunakan DecisionTreeClassifier dengan 3 fitur\n",
    "\n"
   ]
  }
 ],
 "metadata": {
  "kernelspec": {
   "display_name": "Python 3 (ipykernel)",
   "language": "python",
   "name": "python3"
  },
  "language_info": {
   "codemirror_mode": {
    "name": "ipython",
    "version": 3
   },
   "file_extension": ".py",
   "mimetype": "text/x-python",
   "name": "python",
   "nbconvert_exporter": "python",
   "pygments_lexer": "ipython3",
   "version": "3.11.11"
  }
 },
 "nbformat": 4,
 "nbformat_minor": 4
}
